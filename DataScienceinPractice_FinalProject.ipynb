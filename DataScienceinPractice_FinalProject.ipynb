{
 "cells": [
  {
   "cell_type": "markdown",
   "metadata": {},
   "source": [
    "# DSE 315/615 - Analysis and Prediction Of Electric Vehicle Prices As A Function Of The Model's Feature Parameters"
   ]
  },
  {
   "cell_type": "markdown",
   "metadata": {},
   "source": [
    "### Name: S John Sharon Sandeep\n",
    "\n",
    "### Roll No: 20234\n",
    "\n",
    "### Department: Physics\n",
    "\n",
    "### Course: Data Science in Practice, August - December 2022"
   ]
  },
  {
   "cell_type": "markdown",
   "metadata": {},
   "source": [
    "# Overview\n",
    "\n",
    "The goal of our project was to determine if the prices of electric vehicles could be modelled with respect to features of the model, with a reasonable correlation.<br> After performing an EDA, we were able to notice a correlation in the datapoints that were plotted on graphs, suggesting a dependency of prices on the said quantities. However, it is important to note that we had to drop two of the few columns that we had due to lack of data points, and had to work with a small data set. If we had a bigger dataset, we could possibly model a more accurate system, and possibly get new/different results. "
   ]
  },
  {
   "cell_type": "markdown",
   "metadata": {},
   "source": [
    "# Research Question\n",
    "\n",
    "How does the price of a particular model of electric-vehicle depend on various features of that model?"
   ]
  },
  {
   "cell_type": "markdown",
   "metadata": {},
   "source": [
    "# Background and Prior Work\n",
    "\n",
    "One of the main threats to ecological safety is the increased emissions of greenhouse gases.\n",
    "Promoting the purchase of electric vehicles and increasing their share among all cars in a given country can be considered as activities reducing the emissions of CO2 into the atmosphere. <br>\n",
    "The aim of this project was to model the prices of electric vehicles as a part of promoting climate security.\n",
    "For this project, an analysis of data from electric vehicle features and prices from a US based website was carried out. On this basis, how the features of the vehicles influenced the prices of the vehicles - was analyzed. For this purpose, regression models were built based on a decision tree algorithm, namely random forest and the method of Linear regression model was used. While a method of neural networks was used too, the results obtained from it was too erroneus possibly as a result of less number of datapoints. The developed models' predicted variables were compared with test variables and various metrics of evaluation were carried out.\n",
    "\n",
    "References:\n",
    "   -  https://mdpi-res.com/d_attachment/energies/energies-14-08534/article_deploy/energies-14-08534.pdf?version=1639751212\n",
    "   -  https://www.diva-portal.org/smash/get/diva2:1664304/FULLTEXT01.pdf\n"
   ]
  },
  {
   "cell_type": "markdown",
   "metadata": {},
   "source": [
    "# HYPOTHESIS\n",
    "\n",
    "We hypothesize that prices of E-Vehicles (in general any set of vehicles of a particular classification) can be modelled as a function of various specifics of the automobile. In this case, we have modelled it with respect to Battery capacity, EPA (a quantified feature related to mileage), type of Drive and initial acceleration rate. We then expected a positive dependence on the first three factors, while expected that the price would negatively depend on initial-acceleration rate - (quantified by the time a vehicle of that model takes to accelerate from 0 to 60\n",
    "kmph)"
   ]
  },
  {
   "cell_type": "markdown",
   "metadata": {},
   "source": [
    "## SETUP"
   ]
  },
  {
   "cell_type": "code",
   "execution_count": 5,
   "metadata": {},
   "outputs": [],
   "source": [
    "import requests\n",
    "from bs4 import BeautifulSoup\n",
    "\n",
    "import pandas as pd\n",
    "import numpy as np\n",
    "\n",
    "import matplotlib.pyplot as plt\n",
    "import seaborn as sns\n",
    "\n",
    "import category_encoders as ce\n",
    "\n",
    "from sklearn.ensemble import RandomForestRegressor\n",
    "\n",
    "from sklearn.metrics import mean_absolute_error\n",
    "from sklearn.metrics import mean_squared_error\n",
    "from sklearn.metrics import r2_score\n"
   ]
  },
  {
   "cell_type": "markdown",
   "metadata": {},
   "source": [
    "## Extracting The Dataset"
   ]
  },
  {
   "cell_type": "markdown",
   "metadata": {},
   "source": [
    "The data was extracted from the website https://insideevs.com/reviews/344001/compare-evs/ titled: \"Compare Electric Cars: EV Range, Specs, Pricing & More\" by Mark Kane, last updated on 01-June, 2022. Here, the author had made a list of electric-vehicles that were in the U.S. market, comparing their prices and specs."
   ]
  },
  {
   "cell_type": "code",
   "execution_count": 6,
   "metadata": {},
   "outputs": [],
   "source": [
    "URL = 'https://insideevs.com/reviews/344001/compare-evs/'\n",
    "r = requests.get(URL)\n",
    "soup = BeautifulSoup(r.text, 'html.parser')"
   ]
  },
  {
   "cell_type": "markdown",
   "metadata": {},
   "source": [
    "On inspecting the website, it was found that all the required data 'texts' were organized under a 'tr' label with children 'td'. Using this, a programme was figured out to scrape them effectively in a list."
   ]
  },
  {
   "cell_type": "code",
   "execution_count": 7,
   "metadata": {},
   "outputs": [],
   "source": [
    "data=[]\n",
    "data_iterator1 = iter(soup.find_all('tr'))\n",
    "while True:\n",
    "    try:\n",
    "        f = next(data_iterator1)\n",
    "        iterator = iter(f.find_all('td'))\n",
    "        if ((f.strong != None)):\n",
    "            if ('2022' in f.strong.text):\n",
    "                a=[]\n",
    "                while True:\n",
    "                    try:\n",
    "                       f1=next(iterator)\n",
    "                       if f1!= None:\n",
    "                         a.append(f1.text)\n",
    "                    except StopIteration:\n",
    "                        break\n",
    "                data.append(a)\n",
    "                \n",
    "    except StopIteration:\n",
    "        break"
   ]
  },
  {
   "cell_type": "code",
   "execution_count": 8,
   "metadata": {},
   "outputs": [
    {
     "data": {
      "text/plain": [
       "[['2022 Audi e-tron GT quattro 20\"',\n",
       "  '$102,400',\n",
       "  '+$1,045',\n",
       "  '$7,500',\n",
       "  '$95,945'],\n",
       " ['2022 Audi RS e-tron GT quattro 20\"',\n",
       "  '$142,400',\n",
       "  '+$1,045',\n",
       "  '$7,500',\n",
       "  '$135,945'],\n",
       " ['2022 Audi e-tron quattro 20\"', '$65,900', '+$1,095', '$7,500', '$59,495'],\n",
       " ['2022 Audi e-tron Sportback quattro 20\"',\n",
       "  '$69,100',\n",
       "  '+$1,095',\n",
       "  '$7,500',\n",
       "  '$62,695']]"
      ]
     },
     "execution_count": 8,
     "metadata": {},
     "output_type": "execute_result"
    }
   ],
   "source": [
    "data[0:4]"
   ]
  },
  {
   "cell_type": "code",
   "execution_count": 90,
   "metadata": {},
   "outputs": [
    {
     "data": {
      "text/plain": [
       "276"
      ]
     },
     "execution_count": 90,
     "metadata": {},
     "output_type": "execute_result"
    }
   ],
   "source": [
    "len(data)"
   ]
  },
  {
   "cell_type": "markdown",
   "metadata": {},
   "source": [
    "This however is two sets of alternating price datasets and features datasets."
   ]
  },
  {
   "cell_type": "markdown",
   "metadata": {},
   "source": [
    "Following is a programme to find the possible indices were a transition takes place from 'price' array to 'specs' array by checking the prescence or abscence of '$' in the strings."
   ]
  },
  {
   "cell_type": "code",
   "execution_count": 9,
   "metadata": {},
   "outputs": [],
   "source": [
    "p=[]\n",
    "for i in range(0,len(data)-1):\n",
    "    if (('$' in data[i][4]) & ('$' not in data[i+1][4])) | (('$' not in data[i][4]) & ('$' in data[i+1][4])):\n",
    "        p.append(i)        "
   ]
  },
  {
   "cell_type": "code",
   "execution_count": 10,
   "metadata": {},
   "outputs": [
    {
     "data": {
      "text/plain": [
       "[100, 201, 210, 211, 215, 216, 221, 222, 238]"
      ]
     },
     "execution_count": 10,
     "metadata": {},
     "output_type": "execute_result"
    }
   ],
   "source": [
    "p"
   ]
  },
  {
   "cell_type": "markdown",
   "metadata": {},
   "source": [
    "It was guessed from above that, the required indices are 100, 201 and 238 (length of data is 276) which was right.<br>(The other indices being transition from a data point with '$' to a null valued data point.)"
   ]
  },
  {
   "cell_type": "code",
   "execution_count": 12,
   "metadata": {},
   "outputs": [],
   "source": [
    "data11=data[0:p[0]+1]"
   ]
  },
  {
   "cell_type": "code",
   "execution_count": 13,
   "metadata": {},
   "outputs": [],
   "source": [
    "data12=data[p[0]+1:p[1]+1]"
   ]
  },
  {
   "cell_type": "code",
   "execution_count": 15,
   "metadata": {},
   "outputs": [
    {
     "data": {
      "text/plain": [
       "0"
      ]
     },
     "execution_count": 15,
     "metadata": {},
     "output_type": "execute_result"
    }
   ],
   "source": [
    "len(data11)-len(data12)"
   ]
  },
  {
   "cell_type": "code",
   "execution_count": 16,
   "metadata": {},
   "outputs": [],
   "source": [
    "data21=data[p[1]+1:p[-1]+1]\n",
    "data22=data[p[-1]+1:]"
   ]
  },
  {
   "cell_type": "code",
   "execution_count": 17,
   "metadata": {},
   "outputs": [
    {
     "data": {
      "text/plain": [
       "0"
      ]
     },
     "execution_count": 17,
     "metadata": {},
     "output_type": "execute_result"
    }
   ],
   "source": [
    "len(data21)-len(data22)"
   ]
  },
  {
   "cell_type": "code",
   "execution_count": 18,
   "metadata": {},
   "outputs": [
    {
     "name": "stdout",
     "output_type": "stream",
     "text": [
      "['2022 Audi e-tron GT quattro 20\"', '$102,400', '+$1,045', '$7,500', '$95,945'] \n",
      " ['2022 Volkswagen ID.4 AWD Pro S 19\"', '$48,940', '+$1,195', '$7,500', '$42,635'] \n",
      " ['2022 Audi e-tron GT quattro 20\"', 'AWD', '93.4', '238 mi(383 km)', '3.9', '152 mph(245 km/h)'] \n",
      " ['2022 Volkswagen ID.4 AWD Pro S 19\"', 'AWD', '82', '240 mi*(386 km)', '5.8', '111 mph(179 km/h)'] \n",
      " ['2022 Audi A7 55 TFSI e quattro', '$75,900', '+$1,045', '$7,500', '$69,445'] \n",
      " ['2022 Volvo XC90 T8 Twin Engine', '$63,450', '+$1,095', '$5,419', '$59,126'] \n",
      " ['2022 Audi A7 55 TFSI e quattro', 'AWD', '17.9', '26 mi(42 km)', '410 mi(660 km)', '5.7'] \n",
      " ['2022 Volvo XC90 T8 Twin Engine', 'AWD', '11.6', '18 mi(29 km)', '520 mi(837 km)', '\\xa0']\n"
     ]
    }
   ],
   "source": [
    "print(data11[0] ,'\\n' ,data11[-1],'\\n',data12[0],'\\n',data12[-1],'\\n',data21[0],'\\n',data21[-1],'\\n',data22[0],'\\n',data22[-1])"
   ]
  },
  {
   "cell_type": "markdown",
   "metadata": {},
   "source": [
    "As can be seen in last 4 cell outputs, no disparities can be found."
   ]
  },
  {
   "cell_type": "code",
   "execution_count": 19,
   "metadata": {},
   "outputs": [],
   "source": [
    "pricedf1=pd.DataFrame(data=data11,columns=['Model','Base_Price','Dest_Charge',\t'Tax_Credit','Effective_Price'])\n",
    "pricedf2=pd.DataFrame(data=data21,columns=['Model','Base_Price','Dest_Charge',\t'Tax_Credit','Effective_Price'])\n",
    "featuredf1=pd.DataFrame(data=data12,columns=['Model','Drive','Battery_(kWh)','EPA_(Total_Range)', '0-60_mph_(sec)','Top_Speed'])\n",
    "featuredf2=pd.DataFrame(data=data22,columns=['Model','Drive','Battery_(kWh)','EPA_(EV_Range)','EPA_(Total_Range)', '0-60_mph_(sec)'])"
   ]
  },
  {
   "cell_type": "code",
   "execution_count": 20,
   "metadata": {},
   "outputs": [
    {
     "data": {
      "text/html": [
       "<div>\n",
       "<style scoped>\n",
       "    .dataframe tbody tr th:only-of-type {\n",
       "        vertical-align: middle;\n",
       "    }\n",
       "\n",
       "    .dataframe tbody tr th {\n",
       "        vertical-align: top;\n",
       "    }\n",
       "\n",
       "    .dataframe thead th {\n",
       "        text-align: right;\n",
       "    }\n",
       "</style>\n",
       "<table border=\"1\" class=\"dataframe\">\n",
       "  <thead>\n",
       "    <tr style=\"text-align: right;\">\n",
       "      <th></th>\n",
       "      <th>Model</th>\n",
       "      <th>Drive</th>\n",
       "      <th>Battery_(kWh)</th>\n",
       "      <th>EPA_(Total_Range)</th>\n",
       "      <th>0-60_mph_(sec)</th>\n",
       "      <th>Top_Speed</th>\n",
       "    </tr>\n",
       "  </thead>\n",
       "  <tbody>\n",
       "    <tr>\n",
       "      <th>0</th>\n",
       "      <td>2022 Audi e-tron GT quattro 20\"</td>\n",
       "      <td>AWD</td>\n",
       "      <td>93.4</td>\n",
       "      <td>238 mi(383 km)</td>\n",
       "      <td>3.9</td>\n",
       "      <td>152 mph(245 km/h)</td>\n",
       "    </tr>\n",
       "    <tr>\n",
       "      <th>1</th>\n",
       "      <td>2022 Audi RS e-tron GT quattro 20\"</td>\n",
       "      <td>AWD</td>\n",
       "      <td>93.4</td>\n",
       "      <td>232 mi(373 km)</td>\n",
       "      <td>3.1</td>\n",
       "      <td>155 mph(249 km/h)</td>\n",
       "    </tr>\n",
       "    <tr>\n",
       "      <th>2</th>\n",
       "      <td>2022 Audi e-tron quattro 20\"</td>\n",
       "      <td>AWD</td>\n",
       "      <td>95</td>\n",
       "      <td>222 mi(357 km)</td>\n",
       "      <td>5.5</td>\n",
       "      <td>124 mph(200 km/h)</td>\n",
       "    </tr>\n",
       "    <tr>\n",
       "      <th>3</th>\n",
       "      <td>2022 Audi e-tron Sportback quattro 20\"</td>\n",
       "      <td>AWD</td>\n",
       "      <td>95</td>\n",
       "      <td>218 mi(351 km)</td>\n",
       "      <td>5.5</td>\n",
       "      <td>124 mph(200 km/h)</td>\n",
       "    </tr>\n",
       "    <tr>\n",
       "      <th>4</th>\n",
       "      <td>2022 Audi e-tron S 20\"</td>\n",
       "      <td>AWD</td>\n",
       "      <td>95</td>\n",
       "      <td>208 mi(335 km)</td>\n",
       "      <td>4.3</td>\n",
       "      <td>130 mph(209 km/h)</td>\n",
       "    </tr>\n",
       "  </tbody>\n",
       "</table>\n",
       "</div>"
      ],
      "text/plain": [
       "                                    Model Drive Battery_(kWh)  \\\n",
       "0         2022 Audi e-tron GT quattro 20\"   AWD          93.4   \n",
       "1      2022 Audi RS e-tron GT quattro 20\"   AWD          93.4   \n",
       "2            2022 Audi e-tron quattro 20\"   AWD            95   \n",
       "3  2022 Audi e-tron Sportback quattro 20\"   AWD            95   \n",
       "4                  2022 Audi e-tron S 20\"   AWD            95   \n",
       "\n",
       "  EPA_(Total_Range) 0-60_mph_(sec)          Top_Speed  \n",
       "0    238 mi(383 km)            3.9  152 mph(245 km/h)  \n",
       "1    232 mi(373 km)            3.1  155 mph(249 km/h)  \n",
       "2    222 mi(357 km)            5.5  124 mph(200 km/h)  \n",
       "3    218 mi(351 km)            5.5  124 mph(200 km/h)  \n",
       "4    208 mi(335 km)            4.3  130 mph(209 km/h)  "
      ]
     },
     "execution_count": 20,
     "metadata": {},
     "output_type": "execute_result"
    }
   ],
   "source": [
    "featuredf1.head()"
   ]
  },
  {
   "cell_type": "code",
   "execution_count": 21,
   "metadata": {},
   "outputs": [
    {
     "data": {
      "text/html": [
       "<div>\n",
       "<style scoped>\n",
       "    .dataframe tbody tr th:only-of-type {\n",
       "        vertical-align: middle;\n",
       "    }\n",
       "\n",
       "    .dataframe tbody tr th {\n",
       "        vertical-align: top;\n",
       "    }\n",
       "\n",
       "    .dataframe thead th {\n",
       "        text-align: right;\n",
       "    }\n",
       "</style>\n",
       "<table border=\"1\" class=\"dataframe\">\n",
       "  <thead>\n",
       "    <tr style=\"text-align: right;\">\n",
       "      <th></th>\n",
       "      <th>Model</th>\n",
       "      <th>Drive</th>\n",
       "      <th>Battery_(kWh)</th>\n",
       "      <th>EPA_(EV_Range)</th>\n",
       "      <th>EPA_(Total_Range)</th>\n",
       "      <th>0-60_mph_(sec)</th>\n",
       "    </tr>\n",
       "  </thead>\n",
       "  <tbody>\n",
       "    <tr>\n",
       "      <th>0</th>\n",
       "      <td>2022 Audi A7 55 TFSI e quattro</td>\n",
       "      <td>AWD</td>\n",
       "      <td>17.9</td>\n",
       "      <td>26 mi(42 km)</td>\n",
       "      <td>410 mi(660 km)</td>\n",
       "      <td>5.7</td>\n",
       "    </tr>\n",
       "    <tr>\n",
       "      <th>1</th>\n",
       "      <td>2022 Audi Q5 55 TFSI e quattro</td>\n",
       "      <td>AWD</td>\n",
       "      <td>17.9</td>\n",
       "      <td>23 mi(37 km)</td>\n",
       "      <td>390 mi(628 km)</td>\n",
       "      <td>5.0</td>\n",
       "    </tr>\n",
       "    <tr>\n",
       "      <th>2</th>\n",
       "      <td>2022 BMW 330e</td>\n",
       "      <td>RWD</td>\n",
       "      <td>12</td>\n",
       "      <td>22 mi(35 km)</td>\n",
       "      <td>320 mi(515 km)</td>\n",
       "      <td>5.6</td>\n",
       "    </tr>\n",
       "    <tr>\n",
       "      <th>3</th>\n",
       "      <td>2022 BMW 330e xDrive</td>\n",
       "      <td>AWD</td>\n",
       "      <td>12</td>\n",
       "      <td>20 mi(32 km)</td>\n",
       "      <td>290 mi(467 km)</td>\n",
       "      <td>5.7</td>\n",
       "    </tr>\n",
       "    <tr>\n",
       "      <th>4</th>\n",
       "      <td>2022 BMW 530e</td>\n",
       "      <td>RWD</td>\n",
       "      <td>12</td>\n",
       "      <td>21 mi(34 km)</td>\n",
       "      <td>340 mi(547 km)</td>\n",
       "      <td>5.7</td>\n",
       "    </tr>\n",
       "  </tbody>\n",
       "</table>\n",
       "</div>"
      ],
      "text/plain": [
       "                            Model Drive Battery_(kWh) EPA_(EV_Range)  \\\n",
       "0  2022 Audi A7 55 TFSI e quattro   AWD          17.9   26 mi(42 km)   \n",
       "1  2022 Audi Q5 55 TFSI e quattro   AWD          17.9   23 mi(37 km)   \n",
       "2                   2022 BMW 330e   RWD            12   22 mi(35 km)   \n",
       "3            2022 BMW 330e xDrive   AWD            12   20 mi(32 km)   \n",
       "4                   2022 BMW 530e   RWD            12   21 mi(34 km)   \n",
       "\n",
       "  EPA_(Total_Range) 0-60_mph_(sec)  \n",
       "0    410 mi(660 km)            5.7  \n",
       "1    390 mi(628 km)            5.0  \n",
       "2    320 mi(515 km)            5.6  \n",
       "3    290 mi(467 km)            5.7  \n",
       "4    340 mi(547 km)            5.7  "
      ]
     },
     "execution_count": 21,
     "metadata": {},
     "output_type": "execute_result"
    }
   ],
   "source": [
    "featuredf2.head()"
   ]
  },
  {
   "cell_type": "code",
   "execution_count": 22,
   "metadata": {},
   "outputs": [
    {
     "data": {
      "text/html": [
       "<div>\n",
       "<style scoped>\n",
       "    .dataframe tbody tr th:only-of-type {\n",
       "        vertical-align: middle;\n",
       "    }\n",
       "\n",
       "    .dataframe tbody tr th {\n",
       "        vertical-align: top;\n",
       "    }\n",
       "\n",
       "    .dataframe thead th {\n",
       "        text-align: right;\n",
       "    }\n",
       "</style>\n",
       "<table border=\"1\" class=\"dataframe\">\n",
       "  <thead>\n",
       "    <tr style=\"text-align: right;\">\n",
       "      <th></th>\n",
       "      <th>Model</th>\n",
       "      <th>Base_Price</th>\n",
       "      <th>Dest_Charge</th>\n",
       "      <th>Tax_Credit</th>\n",
       "      <th>Effective_Price</th>\n",
       "    </tr>\n",
       "  </thead>\n",
       "  <tbody>\n",
       "    <tr>\n",
       "      <th>0</th>\n",
       "      <td>2022 Audi e-tron GT quattro 20\"</td>\n",
       "      <td>$102,400</td>\n",
       "      <td>+$1,045</td>\n",
       "      <td>$7,500</td>\n",
       "      <td>$95,945</td>\n",
       "    </tr>\n",
       "    <tr>\n",
       "      <th>1</th>\n",
       "      <td>2022 Audi RS e-tron GT quattro 20\"</td>\n",
       "      <td>$142,400</td>\n",
       "      <td>+$1,045</td>\n",
       "      <td>$7,500</td>\n",
       "      <td>$135,945</td>\n",
       "    </tr>\n",
       "    <tr>\n",
       "      <th>2</th>\n",
       "      <td>2022 Audi e-tron quattro 20\"</td>\n",
       "      <td>$65,900</td>\n",
       "      <td>+$1,095</td>\n",
       "      <td>$7,500</td>\n",
       "      <td>$59,495</td>\n",
       "    </tr>\n",
       "    <tr>\n",
       "      <th>3</th>\n",
       "      <td>2022 Audi e-tron Sportback quattro 20\"</td>\n",
       "      <td>$69,100</td>\n",
       "      <td>+$1,095</td>\n",
       "      <td>$7,500</td>\n",
       "      <td>$62,695</td>\n",
       "    </tr>\n",
       "    <tr>\n",
       "      <th>4</th>\n",
       "      <td>2022 Audi e-tron S 20\"</td>\n",
       "      <td>$84,800</td>\n",
       "      <td>+$1,095</td>\n",
       "      <td>$7,500</td>\n",
       "      <td>$78,395</td>\n",
       "    </tr>\n",
       "  </tbody>\n",
       "</table>\n",
       "</div>"
      ],
      "text/plain": [
       "                                    Model Base_Price Dest_Charge Tax_Credit  \\\n",
       "0         2022 Audi e-tron GT quattro 20\"   $102,400     +$1,045     $7,500   \n",
       "1      2022 Audi RS e-tron GT quattro 20\"   $142,400     +$1,045     $7,500   \n",
       "2            2022 Audi e-tron quattro 20\"    $65,900     +$1,095     $7,500   \n",
       "3  2022 Audi e-tron Sportback quattro 20\"    $69,100     +$1,095     $7,500   \n",
       "4                  2022 Audi e-tron S 20\"    $84,800     +$1,095     $7,500   \n",
       "\n",
       "  Effective_Price  \n",
       "0         $95,945  \n",
       "1        $135,945  \n",
       "2         $59,495  \n",
       "3         $62,695  \n",
       "4         $78,395  "
      ]
     },
     "execution_count": 22,
     "metadata": {},
     "output_type": "execute_result"
    }
   ],
   "source": [
    "pricedf1.head()"
   ]
  },
  {
   "cell_type": "code",
   "execution_count": 23,
   "metadata": {},
   "outputs": [
    {
     "data": {
      "text/html": [
       "<div>\n",
       "<style scoped>\n",
       "    .dataframe tbody tr th:only-of-type {\n",
       "        vertical-align: middle;\n",
       "    }\n",
       "\n",
       "    .dataframe tbody tr th {\n",
       "        vertical-align: top;\n",
       "    }\n",
       "\n",
       "    .dataframe thead th {\n",
       "        text-align: right;\n",
       "    }\n",
       "</style>\n",
       "<table border=\"1\" class=\"dataframe\">\n",
       "  <thead>\n",
       "    <tr style=\"text-align: right;\">\n",
       "      <th></th>\n",
       "      <th>Model</th>\n",
       "      <th>Base_Price</th>\n",
       "      <th>Dest_Charge</th>\n",
       "      <th>Tax_Credit</th>\n",
       "      <th>Effective_Price</th>\n",
       "    </tr>\n",
       "  </thead>\n",
       "  <tbody>\n",
       "    <tr>\n",
       "      <th>0</th>\n",
       "      <td>2022 Audi A7 55 TFSI e quattro</td>\n",
       "      <td>$75,900</td>\n",
       "      <td>+$1,045</td>\n",
       "      <td>$7,500</td>\n",
       "      <td>$69,445</td>\n",
       "    </tr>\n",
       "    <tr>\n",
       "      <th>1</th>\n",
       "      <td>2022 Audi Q5 55 TFSI e quattro</td>\n",
       "      <td>$54,600</td>\n",
       "      <td>+$1,095</td>\n",
       "      <td>$7,500</td>\n",
       "      <td>$48,195</td>\n",
       "    </tr>\n",
       "    <tr>\n",
       "      <th>2</th>\n",
       "      <td>2022 BMW 330e</td>\n",
       "      <td>$42,950</td>\n",
       "      <td>+$995</td>\n",
       "      <td>$5,836</td>\n",
       "      <td>$38,109</td>\n",
       "    </tr>\n",
       "    <tr>\n",
       "      <th>3</th>\n",
       "      <td>2022 BMW 330e xDrive</td>\n",
       "      <td>$44,950</td>\n",
       "      <td>+$995</td>\n",
       "      <td>$5,836</td>\n",
       "      <td>$40,109</td>\n",
       "    </tr>\n",
       "    <tr>\n",
       "      <th>4</th>\n",
       "      <td>2022 BMW 530e</td>\n",
       "      <td>$55,550</td>\n",
       "      <td>+$995</td>\n",
       "      <td>$5,836</td>\n",
       "      <td>$50,709</td>\n",
       "    </tr>\n",
       "  </tbody>\n",
       "</table>\n",
       "</div>"
      ],
      "text/plain": [
       "                            Model Base_Price Dest_Charge Tax_Credit  \\\n",
       "0  2022 Audi A7 55 TFSI e quattro    $75,900     +$1,045     $7,500   \n",
       "1  2022 Audi Q5 55 TFSI e quattro    $54,600     +$1,095     $7,500   \n",
       "2                   2022 BMW 330e    $42,950       +$995     $5,836   \n",
       "3            2022 BMW 330e xDrive    $44,950       +$995     $5,836   \n",
       "4                   2022 BMW 530e    $55,550       +$995     $5,836   \n",
       "\n",
       "  Effective_Price  \n",
       "0         $69,445  \n",
       "1         $48,195  \n",
       "2         $38,109  \n",
       "3         $40,109  \n",
       "4         $50,709  "
      ]
     },
     "execution_count": 23,
     "metadata": {},
     "output_type": "execute_result"
    }
   ],
   "source": [
    "pricedf2.head()\n"
   ]
  },
  {
   "cell_type": "markdown",
   "metadata": {},
   "source": [
    "#### Concatenating the dataframes and merging them"
   ]
  },
  {
   "cell_type": "code",
   "execution_count": 24,
   "metadata": {},
   "outputs": [],
   "source": [
    "featdf=pd.concat([featuredf1,featuredf2])\n",
    "pricedf=pd.concat([pricedf1,pricedf2])"
   ]
  },
  {
   "cell_type": "code",
   "execution_count": 25,
   "metadata": {},
   "outputs": [],
   "source": [
    "df=pd.merge(featdf,pricedf)"
   ]
  },
  {
   "cell_type": "markdown",
   "metadata": {},
   "source": [
    "# Data Cleaning"
   ]
  },
  {
   "cell_type": "markdown",
   "metadata": {},
   "source": [
    "### Here is the raw data that was organized in a dataframe"
   ]
  },
  {
   "cell_type": "code",
   "execution_count": 26,
   "metadata": {},
   "outputs": [
    {
     "data": {
      "text/html": [
       "<div>\n",
       "<style scoped>\n",
       "    .dataframe tbody tr th:only-of-type {\n",
       "        vertical-align: middle;\n",
       "    }\n",
       "\n",
       "    .dataframe tbody tr th {\n",
       "        vertical-align: top;\n",
       "    }\n",
       "\n",
       "    .dataframe thead th {\n",
       "        text-align: right;\n",
       "    }\n",
       "</style>\n",
       "<table border=\"1\" class=\"dataframe\">\n",
       "  <thead>\n",
       "    <tr style=\"text-align: right;\">\n",
       "      <th></th>\n",
       "      <th>Model</th>\n",
       "      <th>Drive</th>\n",
       "      <th>Battery_(kWh)</th>\n",
       "      <th>EPA_(Total_Range)</th>\n",
       "      <th>0-60_mph_(sec)</th>\n",
       "      <th>Top_Speed</th>\n",
       "      <th>EPA_(EV_Range)</th>\n",
       "      <th>Base_Price</th>\n",
       "      <th>Dest_Charge</th>\n",
       "      <th>Tax_Credit</th>\n",
       "      <th>Effective_Price</th>\n",
       "    </tr>\n",
       "  </thead>\n",
       "  <tbody>\n",
       "    <tr>\n",
       "      <th>0</th>\n",
       "      <td>2022 Audi e-tron GT quattro 20\"</td>\n",
       "      <td>AWD</td>\n",
       "      <td>93.4</td>\n",
       "      <td>238 mi(383 km)</td>\n",
       "      <td>3.9</td>\n",
       "      <td>152 mph(245 km/h)</td>\n",
       "      <td>NaN</td>\n",
       "      <td>$102,400</td>\n",
       "      <td>+$1,045</td>\n",
       "      <td>$7,500</td>\n",
       "      <td>$95,945</td>\n",
       "    </tr>\n",
       "    <tr>\n",
       "      <th>1</th>\n",
       "      <td>2022 Audi RS e-tron GT quattro 20\"</td>\n",
       "      <td>AWD</td>\n",
       "      <td>93.4</td>\n",
       "      <td>232 mi(373 km)</td>\n",
       "      <td>3.1</td>\n",
       "      <td>155 mph(249 km/h)</td>\n",
       "      <td>NaN</td>\n",
       "      <td>$142,400</td>\n",
       "      <td>+$1,045</td>\n",
       "      <td>$7,500</td>\n",
       "      <td>$135,945</td>\n",
       "    </tr>\n",
       "    <tr>\n",
       "      <th>2</th>\n",
       "      <td>2022 Audi e-tron quattro 20\"</td>\n",
       "      <td>AWD</td>\n",
       "      <td>95</td>\n",
       "      <td>222 mi(357 km)</td>\n",
       "      <td>5.5</td>\n",
       "      <td>124 mph(200 km/h)</td>\n",
       "      <td>NaN</td>\n",
       "      <td>$65,900</td>\n",
       "      <td>+$1,095</td>\n",
       "      <td>$7,500</td>\n",
       "      <td>$59,495</td>\n",
       "    </tr>\n",
       "    <tr>\n",
       "      <th>3</th>\n",
       "      <td>2022 Audi e-tron Sportback quattro 20\"</td>\n",
       "      <td>AWD</td>\n",
       "      <td>95</td>\n",
       "      <td>218 mi(351 km)</td>\n",
       "      <td>5.5</td>\n",
       "      <td>124 mph(200 km/h)</td>\n",
       "      <td>NaN</td>\n",
       "      <td>$69,100</td>\n",
       "      <td>+$1,095</td>\n",
       "      <td>$7,500</td>\n",
       "      <td>$62,695</td>\n",
       "    </tr>\n",
       "    <tr>\n",
       "      <th>4</th>\n",
       "      <td>2022 Audi e-tron S 20\"</td>\n",
       "      <td>AWD</td>\n",
       "      <td>95</td>\n",
       "      <td>208 mi(335 km)</td>\n",
       "      <td>4.3</td>\n",
       "      <td>130 mph(209 km/h)</td>\n",
       "      <td>NaN</td>\n",
       "      <td>$84,800</td>\n",
       "      <td>+$1,095</td>\n",
       "      <td>$7,500</td>\n",
       "      <td>$78,395</td>\n",
       "    </tr>\n",
       "  </tbody>\n",
       "</table>\n",
       "</div>"
      ],
      "text/plain": [
       "                                    Model Drive Battery_(kWh)  \\\n",
       "0         2022 Audi e-tron GT quattro 20\"   AWD          93.4   \n",
       "1      2022 Audi RS e-tron GT quattro 20\"   AWD          93.4   \n",
       "2            2022 Audi e-tron quattro 20\"   AWD            95   \n",
       "3  2022 Audi e-tron Sportback quattro 20\"   AWD            95   \n",
       "4                  2022 Audi e-tron S 20\"   AWD            95   \n",
       "\n",
       "  EPA_(Total_Range) 0-60_mph_(sec)          Top_Speed EPA_(EV_Range)  \\\n",
       "0    238 mi(383 km)            3.9  152 mph(245 km/h)            NaN   \n",
       "1    232 mi(373 km)            3.1  155 mph(249 km/h)            NaN   \n",
       "2    222 mi(357 km)            5.5  124 mph(200 km/h)            NaN   \n",
       "3    218 mi(351 km)            5.5  124 mph(200 km/h)            NaN   \n",
       "4    208 mi(335 km)            4.3  130 mph(209 km/h)            NaN   \n",
       "\n",
       "  Base_Price Dest_Charge Tax_Credit Effective_Price  \n",
       "0   $102,400     +$1,045     $7,500         $95,945  \n",
       "1   $142,400     +$1,045     $7,500        $135,945  \n",
       "2    $65,900     +$1,095     $7,500         $59,495  \n",
       "3    $69,100     +$1,095     $7,500         $62,695  \n",
       "4    $84,800     +$1,095     $7,500         $78,395  "
      ]
     },
     "execution_count": 26,
     "metadata": {},
     "output_type": "execute_result"
    }
   ],
   "source": [
    "df.head()"
   ]
  },
  {
   "cell_type": "code",
   "execution_count": 27,
   "metadata": {},
   "outputs": [
    {
     "data": {
      "text/html": [
       "<div>\n",
       "<style scoped>\n",
       "    .dataframe tbody tr th:only-of-type {\n",
       "        vertical-align: middle;\n",
       "    }\n",
       "\n",
       "    .dataframe tbody tr th {\n",
       "        vertical-align: top;\n",
       "    }\n",
       "\n",
       "    .dataframe thead th {\n",
       "        text-align: right;\n",
       "    }\n",
       "</style>\n",
       "<table border=\"1\" class=\"dataframe\">\n",
       "  <thead>\n",
       "    <tr style=\"text-align: right;\">\n",
       "      <th></th>\n",
       "      <th>Model</th>\n",
       "      <th>Drive</th>\n",
       "      <th>Battery_(kWh)</th>\n",
       "      <th>EPA_(Total_Range)</th>\n",
       "      <th>0-60_mph_(sec)</th>\n",
       "      <th>Top_Speed</th>\n",
       "      <th>EPA_(EV_Range)</th>\n",
       "      <th>Base_Price</th>\n",
       "      <th>Dest_Charge</th>\n",
       "      <th>Tax_Credit</th>\n",
       "      <th>Effective_Price</th>\n",
       "    </tr>\n",
       "  </thead>\n",
       "  <tbody>\n",
       "    <tr>\n",
       "      <th>133</th>\n",
       "      <td>2022 Volvo S60 T8 Twin Engine</td>\n",
       "      <td>AWD</td>\n",
       "      <td>11.6</td>\n",
       "      <td>510 mi(821 km)</td>\n",
       "      <td>4.3</td>\n",
       "      <td>NaN</td>\n",
       "      <td>22 mi(35 km)</td>\n",
       "      <td>$47,650</td>\n",
       "      <td>+$1,045</td>\n",
       "      <td>$5,419</td>\n",
       "      <td>$43,276</td>\n",
       "    </tr>\n",
       "    <tr>\n",
       "      <th>134</th>\n",
       "      <td>2022 Volvo S90 T8 Twin Engine</td>\n",
       "      <td>AWD</td>\n",
       "      <td>11.6</td>\n",
       "      <td>490 mi(788 km)</td>\n",
       "      <td>4.8</td>\n",
       "      <td>NaN</td>\n",
       "      <td>21 mi(34 km)</td>\n",
       "      <td>$60,050</td>\n",
       "      <td>+$1,045</td>\n",
       "      <td>$5,419</td>\n",
       "      <td>$55,676</td>\n",
       "    </tr>\n",
       "    <tr>\n",
       "      <th>135</th>\n",
       "      <td>2022 Volvo V60 T8 Twin Engine Polestar</td>\n",
       "      <td>AWD</td>\n",
       "      <td>11.6</td>\n",
       "      <td>510 mi(821 km)</td>\n",
       "      <td>4.3</td>\n",
       "      <td>NaN</td>\n",
       "      <td>22 mi(35 km)</td>\n",
       "      <td>$67,550</td>\n",
       "      <td>+$1,095</td>\n",
       "      <td>$5,419</td>\n",
       "      <td>$63,226</td>\n",
       "    </tr>\n",
       "    <tr>\n",
       "      <th>136</th>\n",
       "      <td>2022 Volvo XC60 T8 Twin Engine</td>\n",
       "      <td>AWD</td>\n",
       "      <td>11.6</td>\n",
       "      <td>500 mi(805 km)</td>\n",
       "      <td></td>\n",
       "      <td>NaN</td>\n",
       "      <td>18 mi(29 km)</td>\n",
       "      <td>$53,500</td>\n",
       "      <td>+$1,095</td>\n",
       "      <td>$5,419</td>\n",
       "      <td>$49,176</td>\n",
       "    </tr>\n",
       "    <tr>\n",
       "      <th>137</th>\n",
       "      <td>2022 Volvo XC90 T8 Twin Engine</td>\n",
       "      <td>AWD</td>\n",
       "      <td>11.6</td>\n",
       "      <td>520 mi(837 km)</td>\n",
       "      <td></td>\n",
       "      <td>NaN</td>\n",
       "      <td>18 mi(29 km)</td>\n",
       "      <td>$63,450</td>\n",
       "      <td>+$1,095</td>\n",
       "      <td>$5,419</td>\n",
       "      <td>$59,126</td>\n",
       "    </tr>\n",
       "  </tbody>\n",
       "</table>\n",
       "</div>"
      ],
      "text/plain": [
       "                                      Model Drive Battery_(kWh)  \\\n",
       "133           2022 Volvo S60 T8 Twin Engine   AWD          11.6   \n",
       "134           2022 Volvo S90 T8 Twin Engine   AWD          11.6   \n",
       "135  2022 Volvo V60 T8 Twin Engine Polestar   AWD          11.6   \n",
       "136          2022 Volvo XC60 T8 Twin Engine   AWD          11.6   \n",
       "137          2022 Volvo XC90 T8 Twin Engine   AWD          11.6   \n",
       "\n",
       "    EPA_(Total_Range) 0-60_mph_(sec) Top_Speed EPA_(EV_Range) Base_Price  \\\n",
       "133    510 mi(821 km)            4.3       NaN   22 mi(35 km)    $47,650   \n",
       "134    490 mi(788 km)            4.8       NaN   21 mi(34 km)    $60,050   \n",
       "135    510 mi(821 km)            4.3       NaN   22 mi(35 km)    $67,550   \n",
       "136    500 mi(805 km)                      NaN   18 mi(29 km)    $53,500   \n",
       "137    520 mi(837 km)                      NaN   18 mi(29 km)    $63,450   \n",
       "\n",
       "    Dest_Charge Tax_Credit Effective_Price  \n",
       "133     +$1,045     $5,419         $43,276  \n",
       "134     +$1,045     $5,419         $55,676  \n",
       "135     +$1,095     $5,419         $63,226  \n",
       "136     +$1,095     $5,419         $49,176  \n",
       "137     +$1,095     $5,419         $59,126  "
      ]
     },
     "execution_count": 27,
     "metadata": {},
     "output_type": "execute_result"
    }
   ],
   "source": [
    "df.tail()"
   ]
  },
  {
   "cell_type": "markdown",
   "metadata": {},
   "source": [
    "#### Initially, it's a practice to fill the missing data with zero"
   ]
  },
  {
   "cell_type": "code",
   "execution_count": 28,
   "metadata": {},
   "outputs": [],
   "source": [
    "df1=df\n",
    "df1=df1.fillna(0)"
   ]
  },
  {
   "cell_type": "markdown",
   "metadata": {},
   "source": [
    "#### Getting the name of the manufacturer from the car name might be useful"
   ]
  },
  {
   "cell_type": "code",
   "execution_count": 29,
   "metadata": {},
   "outputs": [],
   "source": [
    "df1['Manufacturer']=df1.Model.str.split(' ',1,expand=True)[1].str.split(' ',1,expand=True)[0]"
   ]
  },
  {
   "cell_type": "markdown",
   "metadata": {},
   "source": [
    "#### Removing all metric units while leaving values in kilometers and dollars"
   ]
  },
  {
   "cell_type": "markdown",
   "metadata": {},
   "source": [
    "For EPA(Total Range)"
   ]
  },
  {
   "cell_type": "code",
   "execution_count": 30,
   "metadata": {},
   "outputs": [],
   "source": [
    "df1.iloc[:,3]=df1.iloc[:,3].str.split('(',1,expand=True)[1].str.split(' ',1,expand=True)[0]"
   ]
  },
  {
   "cell_type": "markdown",
   "metadata": {},
   "source": [
    "For Top Speed"
   ]
  },
  {
   "cell_type": "code",
   "execution_count": 31,
   "metadata": {},
   "outputs": [],
   "source": [
    "df1.iloc[:,5]=df1.iloc[:,5].str.split('(',1,expand=True)[1].str.split(' ',1,expand=True)[0]"
   ]
  },
  {
   "cell_type": "markdown",
   "metadata": {},
   "source": [
    "For EPA(EV Range)"
   ]
  },
  {
   "cell_type": "code",
   "execution_count": 32,
   "metadata": {},
   "outputs": [],
   "source": [
    "df1.iloc[:,6]=df1.iloc[:,6].str.split('(',1,expand=True)[1].str.split(' ',1,expand=True)[0]"
   ]
  },
  {
   "cell_type": "markdown",
   "metadata": {},
   "source": [
    "For all the 'prices'"
   ]
  },
  {
   "cell_type": "code",
   "execution_count": 33,
   "metadata": {},
   "outputs": [],
   "source": [
    "for i in range(7,11):\n",
    "   df1.iloc[:,i]=df1.iloc[:,i].str.split('$',1,expand=True)[1].str.replace(',','')"
   ]
  },
  {
   "cell_type": "markdown",
   "metadata": {},
   "source": [
    "Filling NaN with 0"
   ]
  },
  {
   "cell_type": "code",
   "execution_count": 34,
   "metadata": {},
   "outputs": [],
   "source": [
    "df1=df1.fillna(0)"
   ]
  },
  {
   "cell_type": "code",
   "execution_count": 35,
   "metadata": {},
   "outputs": [
    {
     "data": {
      "text/html": [
       "<div>\n",
       "<style scoped>\n",
       "    .dataframe tbody tr th:only-of-type {\n",
       "        vertical-align: middle;\n",
       "    }\n",
       "\n",
       "    .dataframe tbody tr th {\n",
       "        vertical-align: top;\n",
       "    }\n",
       "\n",
       "    .dataframe thead th {\n",
       "        text-align: right;\n",
       "    }\n",
       "</style>\n",
       "<table border=\"1\" class=\"dataframe\">\n",
       "  <thead>\n",
       "    <tr style=\"text-align: right;\">\n",
       "      <th></th>\n",
       "      <th>Model</th>\n",
       "      <th>Drive</th>\n",
       "      <th>Battery_(kWh)</th>\n",
       "      <th>EPA_(Total_Range)</th>\n",
       "      <th>0-60_mph_(sec)</th>\n",
       "      <th>Top_Speed</th>\n",
       "      <th>EPA_(EV_Range)</th>\n",
       "      <th>Base_Price</th>\n",
       "      <th>Dest_Charge</th>\n",
       "      <th>Tax_Credit</th>\n",
       "      <th>Effective_Price</th>\n",
       "      <th>Manufacturer</th>\n",
       "    </tr>\n",
       "  </thead>\n",
       "  <tbody>\n",
       "    <tr>\n",
       "      <th>0</th>\n",
       "      <td>2022 Audi e-tron GT quattro 20\"</td>\n",
       "      <td>AWD</td>\n",
       "      <td>93.4</td>\n",
       "      <td>383</td>\n",
       "      <td>3.9</td>\n",
       "      <td>245</td>\n",
       "      <td>0</td>\n",
       "      <td>102400</td>\n",
       "      <td>1045</td>\n",
       "      <td>7500</td>\n",
       "      <td>95945</td>\n",
       "      <td>Audi</td>\n",
       "    </tr>\n",
       "    <tr>\n",
       "      <th>1</th>\n",
       "      <td>2022 Audi RS e-tron GT quattro 20\"</td>\n",
       "      <td>AWD</td>\n",
       "      <td>93.4</td>\n",
       "      <td>373</td>\n",
       "      <td>3.1</td>\n",
       "      <td>249</td>\n",
       "      <td>0</td>\n",
       "      <td>142400</td>\n",
       "      <td>1045</td>\n",
       "      <td>7500</td>\n",
       "      <td>135945</td>\n",
       "      <td>Audi</td>\n",
       "    </tr>\n",
       "    <tr>\n",
       "      <th>2</th>\n",
       "      <td>2022 Audi e-tron quattro 20\"</td>\n",
       "      <td>AWD</td>\n",
       "      <td>95</td>\n",
       "      <td>357</td>\n",
       "      <td>5.5</td>\n",
       "      <td>200</td>\n",
       "      <td>0</td>\n",
       "      <td>65900</td>\n",
       "      <td>1095</td>\n",
       "      <td>7500</td>\n",
       "      <td>59495</td>\n",
       "      <td>Audi</td>\n",
       "    </tr>\n",
       "    <tr>\n",
       "      <th>3</th>\n",
       "      <td>2022 Audi e-tron Sportback quattro 20\"</td>\n",
       "      <td>AWD</td>\n",
       "      <td>95</td>\n",
       "      <td>351</td>\n",
       "      <td>5.5</td>\n",
       "      <td>200</td>\n",
       "      <td>0</td>\n",
       "      <td>69100</td>\n",
       "      <td>1095</td>\n",
       "      <td>7500</td>\n",
       "      <td>62695</td>\n",
       "      <td>Audi</td>\n",
       "    </tr>\n",
       "    <tr>\n",
       "      <th>4</th>\n",
       "      <td>2022 Audi e-tron S 20\"</td>\n",
       "      <td>AWD</td>\n",
       "      <td>95</td>\n",
       "      <td>335</td>\n",
       "      <td>4.3</td>\n",
       "      <td>209</td>\n",
       "      <td>0</td>\n",
       "      <td>84800</td>\n",
       "      <td>1095</td>\n",
       "      <td>7500</td>\n",
       "      <td>78395</td>\n",
       "      <td>Audi</td>\n",
       "    </tr>\n",
       "    <tr>\n",
       "      <th>...</th>\n",
       "      <td>...</td>\n",
       "      <td>...</td>\n",
       "      <td>...</td>\n",
       "      <td>...</td>\n",
       "      <td>...</td>\n",
       "      <td>...</td>\n",
       "      <td>...</td>\n",
       "      <td>...</td>\n",
       "      <td>...</td>\n",
       "      <td>...</td>\n",
       "      <td>...</td>\n",
       "      <td>...</td>\n",
       "    </tr>\n",
       "    <tr>\n",
       "      <th>133</th>\n",
       "      <td>2022 Volvo S60 T8 Twin Engine</td>\n",
       "      <td>AWD</td>\n",
       "      <td>11.6</td>\n",
       "      <td>821</td>\n",
       "      <td>4.3</td>\n",
       "      <td>0</td>\n",
       "      <td>35</td>\n",
       "      <td>47650</td>\n",
       "      <td>1045</td>\n",
       "      <td>5419</td>\n",
       "      <td>43276</td>\n",
       "      <td>Volvo</td>\n",
       "    </tr>\n",
       "    <tr>\n",
       "      <th>134</th>\n",
       "      <td>2022 Volvo S90 T8 Twin Engine</td>\n",
       "      <td>AWD</td>\n",
       "      <td>11.6</td>\n",
       "      <td>788</td>\n",
       "      <td>4.8</td>\n",
       "      <td>0</td>\n",
       "      <td>34</td>\n",
       "      <td>60050</td>\n",
       "      <td>1045</td>\n",
       "      <td>5419</td>\n",
       "      <td>55676</td>\n",
       "      <td>Volvo</td>\n",
       "    </tr>\n",
       "    <tr>\n",
       "      <th>135</th>\n",
       "      <td>2022 Volvo V60 T8 Twin Engine Polestar</td>\n",
       "      <td>AWD</td>\n",
       "      <td>11.6</td>\n",
       "      <td>821</td>\n",
       "      <td>4.3</td>\n",
       "      <td>0</td>\n",
       "      <td>35</td>\n",
       "      <td>67550</td>\n",
       "      <td>1095</td>\n",
       "      <td>5419</td>\n",
       "      <td>63226</td>\n",
       "      <td>Volvo</td>\n",
       "    </tr>\n",
       "    <tr>\n",
       "      <th>136</th>\n",
       "      <td>2022 Volvo XC60 T8 Twin Engine</td>\n",
       "      <td>AWD</td>\n",
       "      <td>11.6</td>\n",
       "      <td>805</td>\n",
       "      <td></td>\n",
       "      <td>0</td>\n",
       "      <td>29</td>\n",
       "      <td>53500</td>\n",
       "      <td>1095</td>\n",
       "      <td>5419</td>\n",
       "      <td>49176</td>\n",
       "      <td>Volvo</td>\n",
       "    </tr>\n",
       "    <tr>\n",
       "      <th>137</th>\n",
       "      <td>2022 Volvo XC90 T8 Twin Engine</td>\n",
       "      <td>AWD</td>\n",
       "      <td>11.6</td>\n",
       "      <td>837</td>\n",
       "      <td></td>\n",
       "      <td>0</td>\n",
       "      <td>29</td>\n",
       "      <td>63450</td>\n",
       "      <td>1095</td>\n",
       "      <td>5419</td>\n",
       "      <td>59126</td>\n",
       "      <td>Volvo</td>\n",
       "    </tr>\n",
       "  </tbody>\n",
       "</table>\n",
       "<p>138 rows × 12 columns</p>\n",
       "</div>"
      ],
      "text/plain": [
       "                                      Model Drive Battery_(kWh)  \\\n",
       "0           2022 Audi e-tron GT quattro 20\"   AWD          93.4   \n",
       "1        2022 Audi RS e-tron GT quattro 20\"   AWD          93.4   \n",
       "2              2022 Audi e-tron quattro 20\"   AWD            95   \n",
       "3    2022 Audi e-tron Sportback quattro 20\"   AWD            95   \n",
       "4                    2022 Audi e-tron S 20\"   AWD            95   \n",
       "..                                      ...   ...           ...   \n",
       "133           2022 Volvo S60 T8 Twin Engine   AWD          11.6   \n",
       "134           2022 Volvo S90 T8 Twin Engine   AWD          11.6   \n",
       "135  2022 Volvo V60 T8 Twin Engine Polestar   AWD          11.6   \n",
       "136          2022 Volvo XC60 T8 Twin Engine   AWD          11.6   \n",
       "137          2022 Volvo XC90 T8 Twin Engine   AWD          11.6   \n",
       "\n",
       "    EPA_(Total_Range) 0-60_mph_(sec) Top_Speed EPA_(EV_Range) Base_Price  \\\n",
       "0                 383            3.9       245              0     102400   \n",
       "1                 373            3.1       249              0     142400   \n",
       "2                 357            5.5       200              0      65900   \n",
       "3                 351            5.5       200              0      69100   \n",
       "4                 335            4.3       209              0      84800   \n",
       "..                ...            ...       ...            ...        ...   \n",
       "133               821            4.3         0             35      47650   \n",
       "134               788            4.8         0             34      60050   \n",
       "135               821            4.3         0             35      67550   \n",
       "136               805                        0             29      53500   \n",
       "137               837                        0             29      63450   \n",
       "\n",
       "    Dest_Charge Tax_Credit Effective_Price Manufacturer  \n",
       "0          1045       7500           95945         Audi  \n",
       "1          1045       7500          135945         Audi  \n",
       "2          1095       7500           59495         Audi  \n",
       "3          1095       7500           62695         Audi  \n",
       "4          1095       7500           78395         Audi  \n",
       "..          ...        ...             ...          ...  \n",
       "133        1045       5419           43276        Volvo  \n",
       "134        1045       5419           55676        Volvo  \n",
       "135        1095       5419           63226        Volvo  \n",
       "136        1095       5419           49176        Volvo  \n",
       "137        1095       5419           59126        Volvo  \n",
       "\n",
       "[138 rows x 12 columns]"
      ]
     },
     "execution_count": 35,
     "metadata": {},
     "output_type": "execute_result"
    }
   ],
   "source": [
    "df1"
   ]
  },
  {
   "cell_type": "markdown",
   "metadata": {},
   "source": [
    "There are still missing values at (136,5) as can seen, checking what this is:"
   ]
  },
  {
   "cell_type": "code",
   "execution_count": 36,
   "metadata": {},
   "outputs": [
    {
     "data": {
      "text/plain": [
       "'\\xa0'"
      ]
     },
     "execution_count": 36,
     "metadata": {},
     "output_type": "execute_result"
    }
   ],
   "source": [
    "df1.iloc[136,4]"
   ]
  },
  {
   "cell_type": "code",
   "execution_count": 37,
   "metadata": {},
   "outputs": [],
   "source": [
    "df1.replace('\\xa0',0,inplace=True)"
   ]
  },
  {
   "cell_type": "markdown",
   "metadata": {},
   "source": [
    "### Hence our cleaning is complete"
   ]
  },
  {
   "cell_type": "markdown",
   "metadata": {},
   "source": [
    "# Data Analysis & Results \n",
    "\n",
    "## Descriptive Analysis"
   ]
  },
  {
   "cell_type": "code",
   "execution_count": 38,
   "metadata": {},
   "outputs": [
    {
     "data": {
      "text/html": [
       "<div>\n",
       "<style scoped>\n",
       "    .dataframe tbody tr th:only-of-type {\n",
       "        vertical-align: middle;\n",
       "    }\n",
       "\n",
       "    .dataframe tbody tr th {\n",
       "        vertical-align: top;\n",
       "    }\n",
       "\n",
       "    .dataframe thead th {\n",
       "        text-align: right;\n",
       "    }\n",
       "</style>\n",
       "<table border=\"1\" class=\"dataframe\">\n",
       "  <thead>\n",
       "    <tr style=\"text-align: right;\">\n",
       "      <th></th>\n",
       "      <th>Model</th>\n",
       "      <th>Drive</th>\n",
       "      <th>Battery_(kWh)</th>\n",
       "      <th>EPA_(Total_Range)</th>\n",
       "      <th>0-60_mph_(sec)</th>\n",
       "      <th>Top_Speed</th>\n",
       "      <th>EPA_(EV_Range)</th>\n",
       "      <th>Base_Price</th>\n",
       "      <th>Dest_Charge</th>\n",
       "      <th>Tax_Credit</th>\n",
       "      <th>Effective_Price</th>\n",
       "      <th>Manufacturer</th>\n",
       "    </tr>\n",
       "  </thead>\n",
       "  <tbody>\n",
       "    <tr>\n",
       "      <th>0</th>\n",
       "      <td>2022 Audi e-tron GT quattro 20\"</td>\n",
       "      <td>AWD</td>\n",
       "      <td>93.4</td>\n",
       "      <td>383</td>\n",
       "      <td>3.9</td>\n",
       "      <td>245</td>\n",
       "      <td>0</td>\n",
       "      <td>102400</td>\n",
       "      <td>1045</td>\n",
       "      <td>7500</td>\n",
       "      <td>95945</td>\n",
       "      <td>Audi</td>\n",
       "    </tr>\n",
       "    <tr>\n",
       "      <th>1</th>\n",
       "      <td>2022 Audi RS e-tron GT quattro 20\"</td>\n",
       "      <td>AWD</td>\n",
       "      <td>93.4</td>\n",
       "      <td>373</td>\n",
       "      <td>3.1</td>\n",
       "      <td>249</td>\n",
       "      <td>0</td>\n",
       "      <td>142400</td>\n",
       "      <td>1045</td>\n",
       "      <td>7500</td>\n",
       "      <td>135945</td>\n",
       "      <td>Audi</td>\n",
       "    </tr>\n",
       "    <tr>\n",
       "      <th>2</th>\n",
       "      <td>2022 Audi e-tron quattro 20\"</td>\n",
       "      <td>AWD</td>\n",
       "      <td>95</td>\n",
       "      <td>357</td>\n",
       "      <td>5.5</td>\n",
       "      <td>200</td>\n",
       "      <td>0</td>\n",
       "      <td>65900</td>\n",
       "      <td>1095</td>\n",
       "      <td>7500</td>\n",
       "      <td>59495</td>\n",
       "      <td>Audi</td>\n",
       "    </tr>\n",
       "    <tr>\n",
       "      <th>3</th>\n",
       "      <td>2022 Audi e-tron Sportback quattro 20\"</td>\n",
       "      <td>AWD</td>\n",
       "      <td>95</td>\n",
       "      <td>351</td>\n",
       "      <td>5.5</td>\n",
       "      <td>200</td>\n",
       "      <td>0</td>\n",
       "      <td>69100</td>\n",
       "      <td>1095</td>\n",
       "      <td>7500</td>\n",
       "      <td>62695</td>\n",
       "      <td>Audi</td>\n",
       "    </tr>\n",
       "    <tr>\n",
       "      <th>4</th>\n",
       "      <td>2022 Audi e-tron S 20\"</td>\n",
       "      <td>AWD</td>\n",
       "      <td>95</td>\n",
       "      <td>335</td>\n",
       "      <td>4.3</td>\n",
       "      <td>209</td>\n",
       "      <td>0</td>\n",
       "      <td>84800</td>\n",
       "      <td>1095</td>\n",
       "      <td>7500</td>\n",
       "      <td>78395</td>\n",
       "      <td>Audi</td>\n",
       "    </tr>\n",
       "  </tbody>\n",
       "</table>\n",
       "</div>"
      ],
      "text/plain": [
       "                                    Model Drive Battery_(kWh)  \\\n",
       "0         2022 Audi e-tron GT quattro 20\"   AWD          93.4   \n",
       "1      2022 Audi RS e-tron GT quattro 20\"   AWD          93.4   \n",
       "2            2022 Audi e-tron quattro 20\"   AWD            95   \n",
       "3  2022 Audi e-tron Sportback quattro 20\"   AWD            95   \n",
       "4                  2022 Audi e-tron S 20\"   AWD            95   \n",
       "\n",
       "  EPA_(Total_Range) 0-60_mph_(sec) Top_Speed EPA_(EV_Range) Base_Price  \\\n",
       "0               383            3.9       245              0     102400   \n",
       "1               373            3.1       249              0     142400   \n",
       "2               357            5.5       200              0      65900   \n",
       "3               351            5.5       200              0      69100   \n",
       "4               335            4.3       209              0      84800   \n",
       "\n",
       "  Dest_Charge Tax_Credit Effective_Price Manufacturer  \n",
       "0        1045       7500           95945         Audi  \n",
       "1        1045       7500          135945         Audi  \n",
       "2        1095       7500           59495         Audi  \n",
       "3        1095       7500           62695         Audi  \n",
       "4        1095       7500           78395         Audi  "
      ]
     },
     "execution_count": 38,
     "metadata": {},
     "output_type": "execute_result"
    }
   ],
   "source": [
    "df1.head()"
   ]
  },
  {
   "cell_type": "code",
   "execution_count": 39,
   "metadata": {},
   "outputs": [
    {
     "data": {
      "text/html": [
       "<div>\n",
       "<style scoped>\n",
       "    .dataframe tbody tr th:only-of-type {\n",
       "        vertical-align: middle;\n",
       "    }\n",
       "\n",
       "    .dataframe tbody tr th {\n",
       "        vertical-align: top;\n",
       "    }\n",
       "\n",
       "    .dataframe thead th {\n",
       "        text-align: right;\n",
       "    }\n",
       "</style>\n",
       "<table border=\"1\" class=\"dataframe\">\n",
       "  <thead>\n",
       "    <tr style=\"text-align: right;\">\n",
       "      <th></th>\n",
       "      <th>Model</th>\n",
       "      <th>Drive</th>\n",
       "      <th>Battery_(kWh)</th>\n",
       "      <th>EPA_(Total_Range)</th>\n",
       "      <th>0-60_mph_(sec)</th>\n",
       "      <th>Top_Speed</th>\n",
       "      <th>EPA_(EV_Range)</th>\n",
       "      <th>Base_Price</th>\n",
       "      <th>Dest_Charge</th>\n",
       "      <th>Tax_Credit</th>\n",
       "      <th>Effective_Price</th>\n",
       "      <th>Manufacturer</th>\n",
       "    </tr>\n",
       "  </thead>\n",
       "  <tbody>\n",
       "    <tr>\n",
       "      <th>133</th>\n",
       "      <td>2022 Volvo S60 T8 Twin Engine</td>\n",
       "      <td>AWD</td>\n",
       "      <td>11.6</td>\n",
       "      <td>821</td>\n",
       "      <td>4.3</td>\n",
       "      <td>0</td>\n",
       "      <td>35</td>\n",
       "      <td>47650</td>\n",
       "      <td>1045</td>\n",
       "      <td>5419</td>\n",
       "      <td>43276</td>\n",
       "      <td>Volvo</td>\n",
       "    </tr>\n",
       "    <tr>\n",
       "      <th>134</th>\n",
       "      <td>2022 Volvo S90 T8 Twin Engine</td>\n",
       "      <td>AWD</td>\n",
       "      <td>11.6</td>\n",
       "      <td>788</td>\n",
       "      <td>4.8</td>\n",
       "      <td>0</td>\n",
       "      <td>34</td>\n",
       "      <td>60050</td>\n",
       "      <td>1045</td>\n",
       "      <td>5419</td>\n",
       "      <td>55676</td>\n",
       "      <td>Volvo</td>\n",
       "    </tr>\n",
       "    <tr>\n",
       "      <th>135</th>\n",
       "      <td>2022 Volvo V60 T8 Twin Engine Polestar</td>\n",
       "      <td>AWD</td>\n",
       "      <td>11.6</td>\n",
       "      <td>821</td>\n",
       "      <td>4.3</td>\n",
       "      <td>0</td>\n",
       "      <td>35</td>\n",
       "      <td>67550</td>\n",
       "      <td>1095</td>\n",
       "      <td>5419</td>\n",
       "      <td>63226</td>\n",
       "      <td>Volvo</td>\n",
       "    </tr>\n",
       "    <tr>\n",
       "      <th>136</th>\n",
       "      <td>2022 Volvo XC60 T8 Twin Engine</td>\n",
       "      <td>AWD</td>\n",
       "      <td>11.6</td>\n",
       "      <td>805</td>\n",
       "      <td>0</td>\n",
       "      <td>0</td>\n",
       "      <td>29</td>\n",
       "      <td>53500</td>\n",
       "      <td>1095</td>\n",
       "      <td>5419</td>\n",
       "      <td>49176</td>\n",
       "      <td>Volvo</td>\n",
       "    </tr>\n",
       "    <tr>\n",
       "      <th>137</th>\n",
       "      <td>2022 Volvo XC90 T8 Twin Engine</td>\n",
       "      <td>AWD</td>\n",
       "      <td>11.6</td>\n",
       "      <td>837</td>\n",
       "      <td>0</td>\n",
       "      <td>0</td>\n",
       "      <td>29</td>\n",
       "      <td>63450</td>\n",
       "      <td>1095</td>\n",
       "      <td>5419</td>\n",
       "      <td>59126</td>\n",
       "      <td>Volvo</td>\n",
       "    </tr>\n",
       "  </tbody>\n",
       "</table>\n",
       "</div>"
      ],
      "text/plain": [
       "                                      Model Drive Battery_(kWh)  \\\n",
       "133           2022 Volvo S60 T8 Twin Engine   AWD          11.6   \n",
       "134           2022 Volvo S90 T8 Twin Engine   AWD          11.6   \n",
       "135  2022 Volvo V60 T8 Twin Engine Polestar   AWD          11.6   \n",
       "136          2022 Volvo XC60 T8 Twin Engine   AWD          11.6   \n",
       "137          2022 Volvo XC90 T8 Twin Engine   AWD          11.6   \n",
       "\n",
       "    EPA_(Total_Range) 0-60_mph_(sec) Top_Speed EPA_(EV_Range) Base_Price  \\\n",
       "133               821            4.3         0             35      47650   \n",
       "134               788            4.8         0             34      60050   \n",
       "135               821            4.3         0             35      67550   \n",
       "136               805              0         0             29      53500   \n",
       "137               837              0         0             29      63450   \n",
       "\n",
       "    Dest_Charge Tax_Credit Effective_Price Manufacturer  \n",
       "133        1045       5419           43276        Volvo  \n",
       "134        1045       5419           55676        Volvo  \n",
       "135        1095       5419           63226        Volvo  \n",
       "136        1095       5419           49176        Volvo  \n",
       "137        1095       5419           59126        Volvo  "
      ]
     },
     "execution_count": 39,
     "metadata": {},
     "output_type": "execute_result"
    }
   ],
   "source": [
    "df1.tail()"
   ]
  },
  {
   "cell_type": "markdown",
   "metadata": {},
   "source": [
    "### 1) Checking the nature of the data and the data types:"
   ]
  },
  {
   "cell_type": "code",
   "execution_count": 40,
   "metadata": {},
   "outputs": [
    {
     "name": "stdout",
     "output_type": "stream",
     "text": [
      "<class 'pandas.core.frame.DataFrame'>\n",
      "Int64Index: 138 entries, 0 to 137\n",
      "Data columns (total 12 columns):\n",
      " #   Column             Non-Null Count  Dtype \n",
      "---  ------             --------------  ----- \n",
      " 0   Model              138 non-null    object\n",
      " 1   Drive              138 non-null    object\n",
      " 2   Battery_(kWh)      138 non-null    object\n",
      " 3   EPA_(Total_Range)  138 non-null    object\n",
      " 4   0-60_mph_(sec)     138 non-null    object\n",
      " 5   Top_Speed          138 non-null    object\n",
      " 6   EPA_(EV_Range)     138 non-null    object\n",
      " 7   Base_Price         138 non-null    object\n",
      " 8   Dest_Charge        138 non-null    object\n",
      " 9   Tax_Credit         138 non-null    object\n",
      " 10  Effective_Price    138 non-null    object\n",
      " 11  Manufacturer       138 non-null    object\n",
      "dtypes: object(12)\n",
      "memory usage: 14.0+ KB\n"
     ]
    }
   ],
   "source": [
    "df1.info()"
   ]
  },
  {
   "cell_type": "code",
   "execution_count": 41,
   "metadata": {},
   "outputs": [
    {
     "data": {
      "text/html": [
       "<div>\n",
       "<style scoped>\n",
       "    .dataframe tbody tr th:only-of-type {\n",
       "        vertical-align: middle;\n",
       "    }\n",
       "\n",
       "    .dataframe tbody tr th {\n",
       "        vertical-align: top;\n",
       "    }\n",
       "\n",
       "    .dataframe thead th {\n",
       "        text-align: right;\n",
       "    }\n",
       "</style>\n",
       "<table border=\"1\" class=\"dataframe\">\n",
       "  <thead>\n",
       "    <tr style=\"text-align: right;\">\n",
       "      <th></th>\n",
       "    </tr>\n",
       "  </thead>\n",
       "  <tbody>\n",
       "  </tbody>\n",
       "</table>\n",
       "</div>"
      ],
      "text/plain": [
       "Empty DataFrame\n",
       "Columns: []\n",
       "Index: []"
      ]
     },
     "execution_count": 41,
     "metadata": {},
     "output_type": "execute_result"
    }
   ],
   "source": [
    "df1.corr()"
   ]
  },
  {
   "cell_type": "markdown",
   "metadata": {},
   "source": [
    "#### df1.corr is not working as all the values are of type 'object' and not 'float' or 'int'. Hence converting them to float:"
   ]
  },
  {
   "cell_type": "markdown",
   "metadata": {},
   "source": [
    "It was found that the second box of code from here gave an error message that one of the data-point had a '*' character, hence on removing any such occurence by the following code, the rest of the programme runs smoothly."
   ]
  },
  {
   "cell_type": "code",
   "execution_count": 42,
   "metadata": {},
   "outputs": [],
   "source": [
    "for i in range(0,138):\n",
    "    for j in range(2,len(df1.columns)-1):\n",
    "        if type(df1.iloc[i,j])==str:\n",
    "           df1.iloc[i,j]=df1.iloc[i,j].replace('*','')"
   ]
  },
  {
   "cell_type": "markdown",
   "metadata": {},
   "source": [
    "code to convert all datapoints to float"
   ]
  },
  {
   "cell_type": "code",
   "execution_count": 43,
   "metadata": {},
   "outputs": [],
   "source": [
    "for i in range(2,11):\n",
    "    s=df1.iloc[:,i].astype(\"float\")\n",
    "    df1.iloc[:,i]=s"
   ]
  },
  {
   "cell_type": "code",
   "execution_count": 44,
   "metadata": {},
   "outputs": [
    {
     "name": "stdout",
     "output_type": "stream",
     "text": [
      "<class 'pandas.core.frame.DataFrame'>\n",
      "Int64Index: 138 entries, 0 to 137\n",
      "Data columns (total 12 columns):\n",
      " #   Column             Non-Null Count  Dtype  \n",
      "---  ------             --------------  -----  \n",
      " 0   Model              138 non-null    object \n",
      " 1   Drive              138 non-null    object \n",
      " 2   Battery_(kWh)      138 non-null    float64\n",
      " 3   EPA_(Total_Range)  138 non-null    float64\n",
      " 4   0-60_mph_(sec)     138 non-null    float64\n",
      " 5   Top_Speed          138 non-null    float64\n",
      " 6   EPA_(EV_Range)     138 non-null    float64\n",
      " 7   Base_Price         138 non-null    float64\n",
      " 8   Dest_Charge        138 non-null    float64\n",
      " 9   Tax_Credit         138 non-null    float64\n",
      " 10  Effective_Price    138 non-null    float64\n",
      " 11  Manufacturer       138 non-null    object \n",
      "dtypes: float64(9), object(3)\n",
      "memory usage: 14.0+ KB\n"
     ]
    }
   ],
   "source": [
    "df1.info()"
   ]
  },
  {
   "cell_type": "code",
   "execution_count": 45,
   "metadata": {},
   "outputs": [
    {
     "data": {
      "text/html": [
       "<div>\n",
       "<style scoped>\n",
       "    .dataframe tbody tr th:only-of-type {\n",
       "        vertical-align: middle;\n",
       "    }\n",
       "\n",
       "    .dataframe tbody tr th {\n",
       "        vertical-align: top;\n",
       "    }\n",
       "\n",
       "    .dataframe thead th {\n",
       "        text-align: right;\n",
       "    }\n",
       "</style>\n",
       "<table border=\"1\" class=\"dataframe\">\n",
       "  <thead>\n",
       "    <tr style=\"text-align: right;\">\n",
       "      <th></th>\n",
       "      <th>Battery_(kWh)</th>\n",
       "      <th>EPA_(Total_Range)</th>\n",
       "      <th>0-60_mph_(sec)</th>\n",
       "      <th>Top_Speed</th>\n",
       "      <th>EPA_(EV_Range)</th>\n",
       "      <th>Base_Price</th>\n",
       "      <th>Dest_Charge</th>\n",
       "      <th>Tax_Credit</th>\n",
       "      <th>Effective_Price</th>\n",
       "    </tr>\n",
       "  </thead>\n",
       "  <tbody>\n",
       "    <tr>\n",
       "      <th>Battery_(kWh)</th>\n",
       "      <td>1.000000</td>\n",
       "      <td>-0.416932</td>\n",
       "      <td>0.021037</td>\n",
       "      <td>0.541381</td>\n",
       "      <td>-0.806324</td>\n",
       "      <td>0.369016</td>\n",
       "      <td>0.271823</td>\n",
       "      <td>-0.029637</td>\n",
       "      <td>0.368822</td>\n",
       "    </tr>\n",
       "    <tr>\n",
       "      <th>EPA_(Total_Range)</th>\n",
       "      <td>-0.416932</td>\n",
       "      <td>1.000000</td>\n",
       "      <td>-0.374290</td>\n",
       "      <td>-0.337081</td>\n",
       "      <td>0.671967</td>\n",
       "      <td>0.015126</td>\n",
       "      <td>-0.047385</td>\n",
       "      <td>-0.177462</td>\n",
       "      <td>0.028765</td>\n",
       "    </tr>\n",
       "    <tr>\n",
       "      <th>0-60_mph_(sec)</th>\n",
       "      <td>0.021037</td>\n",
       "      <td>-0.374290</td>\n",
       "      <td>1.000000</td>\n",
       "      <td>0.170506</td>\n",
       "      <td>-0.297748</td>\n",
       "      <td>-0.107258</td>\n",
       "      <td>-0.146404</td>\n",
       "      <td>0.049005</td>\n",
       "      <td>-0.116028</td>\n",
       "    </tr>\n",
       "    <tr>\n",
       "      <th>Top_Speed</th>\n",
       "      <td>0.541381</td>\n",
       "      <td>-0.337081</td>\n",
       "      <td>0.170506</td>\n",
       "      <td>1.000000</td>\n",
       "      <td>-0.628927</td>\n",
       "      <td>0.449862</td>\n",
       "      <td>0.201852</td>\n",
       "      <td>-0.190637</td>\n",
       "      <td>0.460433</td>\n",
       "    </tr>\n",
       "    <tr>\n",
       "      <th>EPA_(EV_Range)</th>\n",
       "      <td>-0.806324</td>\n",
       "      <td>0.671967</td>\n",
       "      <td>-0.297748</td>\n",
       "      <td>-0.628927</td>\n",
       "      <td>1.000000</td>\n",
       "      <td>-0.231807</td>\n",
       "      <td>-0.212105</td>\n",
       "      <td>0.057094</td>\n",
       "      <td>-0.232167</td>\n",
       "    </tr>\n",
       "    <tr>\n",
       "      <th>Base_Price</th>\n",
       "      <td>0.369016</td>\n",
       "      <td>0.015126</td>\n",
       "      <td>-0.107258</td>\n",
       "      <td>0.449862</td>\n",
       "      <td>-0.231807</td>\n",
       "      <td>1.000000</td>\n",
       "      <td>0.391097</td>\n",
       "      <td>0.010203</td>\n",
       "      <td>0.997955</td>\n",
       "    </tr>\n",
       "    <tr>\n",
       "      <th>Dest_Charge</th>\n",
       "      <td>0.271823</td>\n",
       "      <td>-0.047385</td>\n",
       "      <td>-0.146404</td>\n",
       "      <td>0.201852</td>\n",
       "      <td>-0.212105</td>\n",
       "      <td>0.391097</td>\n",
       "      <td>1.000000</td>\n",
       "      <td>0.185544</td>\n",
       "      <td>0.372936</td>\n",
       "    </tr>\n",
       "    <tr>\n",
       "      <th>Tax_Credit</th>\n",
       "      <td>-0.029637</td>\n",
       "      <td>-0.177462</td>\n",
       "      <td>0.049005</td>\n",
       "      <td>-0.190637</td>\n",
       "      <td>0.057094</td>\n",
       "      <td>0.010203</td>\n",
       "      <td>0.185544</td>\n",
       "      <td>1.000000</td>\n",
       "      <td>-0.051030</td>\n",
       "    </tr>\n",
       "    <tr>\n",
       "      <th>Effective_Price</th>\n",
       "      <td>0.368822</td>\n",
       "      <td>0.028765</td>\n",
       "      <td>-0.116028</td>\n",
       "      <td>0.460433</td>\n",
       "      <td>-0.232167</td>\n",
       "      <td>0.997955</td>\n",
       "      <td>0.372936</td>\n",
       "      <td>-0.051030</td>\n",
       "      <td>1.000000</td>\n",
       "    </tr>\n",
       "  </tbody>\n",
       "</table>\n",
       "</div>"
      ],
      "text/plain": [
       "                   Battery_(kWh)  EPA_(Total_Range)  0-60_mph_(sec)  \\\n",
       "Battery_(kWh)           1.000000          -0.416932        0.021037   \n",
       "EPA_(Total_Range)      -0.416932           1.000000       -0.374290   \n",
       "0-60_mph_(sec)          0.021037          -0.374290        1.000000   \n",
       "Top_Speed               0.541381          -0.337081        0.170506   \n",
       "EPA_(EV_Range)         -0.806324           0.671967       -0.297748   \n",
       "Base_Price              0.369016           0.015126       -0.107258   \n",
       "Dest_Charge             0.271823          -0.047385       -0.146404   \n",
       "Tax_Credit             -0.029637          -0.177462        0.049005   \n",
       "Effective_Price         0.368822           0.028765       -0.116028   \n",
       "\n",
       "                   Top_Speed  EPA_(EV_Range)  Base_Price  Dest_Charge  \\\n",
       "Battery_(kWh)       0.541381       -0.806324    0.369016     0.271823   \n",
       "EPA_(Total_Range)  -0.337081        0.671967    0.015126    -0.047385   \n",
       "0-60_mph_(sec)      0.170506       -0.297748   -0.107258    -0.146404   \n",
       "Top_Speed           1.000000       -0.628927    0.449862     0.201852   \n",
       "EPA_(EV_Range)     -0.628927        1.000000   -0.231807    -0.212105   \n",
       "Base_Price          0.449862       -0.231807    1.000000     0.391097   \n",
       "Dest_Charge         0.201852       -0.212105    0.391097     1.000000   \n",
       "Tax_Credit         -0.190637        0.057094    0.010203     0.185544   \n",
       "Effective_Price     0.460433       -0.232167    0.997955     0.372936   \n",
       "\n",
       "                   Tax_Credit  Effective_Price  \n",
       "Battery_(kWh)       -0.029637         0.368822  \n",
       "EPA_(Total_Range)   -0.177462         0.028765  \n",
       "0-60_mph_(sec)       0.049005        -0.116028  \n",
       "Top_Speed           -0.190637         0.460433  \n",
       "EPA_(EV_Range)       0.057094        -0.232167  \n",
       "Base_Price           0.010203         0.997955  \n",
       "Dest_Charge          0.185544         0.372936  \n",
       "Tax_Credit           1.000000        -0.051030  \n",
       "Effective_Price     -0.051030         1.000000  "
      ]
     },
     "execution_count": 45,
     "metadata": {},
     "output_type": "execute_result"
    }
   ],
   "source": [
    "df1.corr()"
   ]
  },
  {
   "cell_type": "markdown",
   "metadata": {},
   "source": [
    "#### It can be seen that many variables have appreciable correlation. This is better spotted/visualized using a heat map:"
   ]
  },
  {
   "cell_type": "code",
   "execution_count": 46,
   "metadata": {},
   "outputs": [
    {
     "data": {
      "text/plain": [
       "<AxesSubplot:>"
      ]
     },
     "execution_count": 46,
     "metadata": {},
     "output_type": "execute_result"
    },
    {
     "data": {
      "image/png": "[encoded data removed]",
      "text/plain": [
       "<Figure size 576x432 with 2 Axes>"
      ]
     },
     "metadata": {
      "needs_background": "light"
     },
     "output_type": "display_data"
    }
   ],
   "source": [
    "plt.figure(figsize=(8,6))\n",
    "sns.heatmap(df1.corr(),annot=True)"
   ]
  },
  {
   "cell_type": "markdown",
   "metadata": {},
   "source": [
    "##### It can be seen that there is high correlation between 'Base Price' and 'Effective Price' which is expected. <br> Other than that, there is considerable correlation between 'Top Speed' and 'Prices', and unusually, there is a good **correlation between 'Top Speed' and 'Battery'**"
   ]
  },
  {
   "cell_type": "markdown",
   "metadata": {},
   "source": [
    "### 2) We can check the distribution of cars among different drive types"
   ]
  },
  {
   "cell_type": "code",
   "execution_count": 47,
   "metadata": {},
   "outputs": [
    {
     "data": {
      "text/plain": [
       "<AxesSubplot:xlabel='Drive', ylabel='count'>"
      ]
     },
     "execution_count": 47,
     "metadata": {},
     "output_type": "execute_result"
    },
    {
     "data": {
      "image/png": "[encoded data removed]",
      "text/plain": [
       "<Figure size 432x288 with 1 Axes>"
      ]
     },
     "metadata": {
      "needs_background": "light"
     },
     "output_type": "display_data"
    }
   ],
   "source": [
    "sns.countplot(x='Drive',data=df1)"
   ]
  },
  {
   "cell_type": "code",
   "execution_count": 48,
   "metadata": {},
   "outputs": [],
   "source": [
    "Manufacturers=np.array(df1.Manufacturer.value_counts().index)"
   ]
  },
  {
   "cell_type": "code",
   "execution_count": 49,
   "metadata": {},
   "outputs": [
    {
     "data": {
      "text/plain": [
       "[Text(0, 0, 'Porsche'),\n",
       " Text(1, 0, 'Ford'),\n",
       " Text(2, 0, 'Tesla'),\n",
       " Text(3, 0, 'Audi'),\n",
       " Text(4, 0, 'Hyundai'),\n",
       " Text(5, 0, 'Kia'),\n",
       " Text(6, 0, 'BMW'),\n",
       " Text(7, 0, 'Volvo'),\n",
       " Text(8, 0, 'Lucid'),\n",
       " Text(9, 0, 'Volkswagen'),\n",
       " Text(10, 0, 'Nissan'),\n",
       " Text(11, 0, 'Lincoln'),\n",
       " Text(12, 0, 'Jeep'),\n",
       " Text(13, 0, 'Rivian'),\n",
       " Text(14, 0, 'Polestar'),\n",
       " Text(15, 0, 'MINI'),\n",
       " Text(16, 0, 'Mercedes'),\n",
       " Text(17, 0, 'Chevrolet'),\n",
       " Text(18, 0, 'Mazda'),\n",
       " Text(19, 0, 'Jaguar'),\n",
       " Text(20, 0, 'Chrysler'),\n",
       " Text(21, 0, 'Ferrari'),\n",
       " Text(22, 0, 'GMC'),\n",
       " Text(23, 0, 'Lexus'),\n",
       " Text(24, 0, 'Mitsubishi'),\n",
       " Text(25, 0, 'Subaru'),\n",
       " Text(26, 0, 'Toyota')]"
      ]
     },
     "execution_count": 49,
     "metadata": {},
     "output_type": "execute_result"
    },
    {
     "data": {
      "image/png": "[encoded data removed]",
      "text/plain": [
       "<Figure size 432x288 with 1 Axes>"
      ]
     },
     "metadata": {
      "needs_background": "light"
     },
     "output_type": "display_data"
    }
   ],
   "source": [
    "g=sns.countplot(x='Manufacturer',data=df1)\n",
    "g.set_xticklabels(labels=Manufacturers,rotation=80)"
   ]
  },
  {
   "cell_type": "markdown",
   "metadata": {},
   "source": [
    "The Manufacturer types that have more number of models in this list might be a reflection of: <br>1) The actual distribution of popular models in the market <br>2) The Bias or Negligence to other models by the website content creators."
   ]
  },
  {
   "cell_type": "code",
   "execution_count": 50,
   "metadata": {},
   "outputs": [
    {
     "data": {
      "text/html": [
       "<div>\n",
       "<style scoped>\n",
       "    .dataframe tbody tr th:only-of-type {\n",
       "        vertical-align: middle;\n",
       "    }\n",
       "\n",
       "    .dataframe tbody tr th {\n",
       "        vertical-align: top;\n",
       "    }\n",
       "\n",
       "    .dataframe thead th {\n",
       "        text-align: right;\n",
       "    }\n",
       "</style>\n",
       "<table border=\"1\" class=\"dataframe\">\n",
       "  <thead>\n",
       "    <tr style=\"text-align: right;\">\n",
       "      <th></th>\n",
       "      <th>Battery_(kWh)</th>\n",
       "      <th>EPA_(Total_Range)</th>\n",
       "      <th>0-60_mph_(sec)</th>\n",
       "      <th>Top_Speed</th>\n",
       "      <th>EPA_(EV_Range)</th>\n",
       "      <th>Base_Price</th>\n",
       "      <th>Dest_Charge</th>\n",
       "      <th>Tax_Credit</th>\n",
       "      <th>Effective_Price</th>\n",
       "    </tr>\n",
       "  </thead>\n",
       "  <tbody>\n",
       "    <tr>\n",
       "      <th>count</th>\n",
       "      <td>138.000000</td>\n",
       "      <td>138.000000</td>\n",
       "      <td>138.000000</td>\n",
       "      <td>138.000000</td>\n",
       "      <td>138.000000</td>\n",
       "      <td>138.000000</td>\n",
       "      <td>138.000000</td>\n",
       "      <td>138.000000</td>\n",
       "      <td>138.000000</td>\n",
       "    </tr>\n",
       "    <tr>\n",
       "      <th>mean</th>\n",
       "      <td>70.170290</td>\n",
       "      <td>508.188406</td>\n",
       "      <td>3.808261</td>\n",
       "      <td>122.050725</td>\n",
       "      <td>9.710145</td>\n",
       "      <td>72926.398551</td>\n",
       "      <td>1172.101449</td>\n",
       "      <td>6155.333333</td>\n",
       "      <td>68072.471014</td>\n",
       "    </tr>\n",
       "    <tr>\n",
       "      <th>std</th>\n",
       "      <td>39.864523</td>\n",
       "      <td>181.300313</td>\n",
       "      <td>2.303965</td>\n",
       "      <td>111.433023</td>\n",
       "      <td>17.033759</td>\n",
       "      <td>41246.523462</td>\n",
       "      <td>270.531925</td>\n",
       "      <td>2587.945104</td>\n",
       "      <td>41179.834513</td>\n",
       "    </tr>\n",
       "    <tr>\n",
       "      <th>min</th>\n",
       "      <td>7.900000</td>\n",
       "      <td>0.000000</td>\n",
       "      <td>0.000000</td>\n",
       "      <td>0.000000</td>\n",
       "      <td>0.000000</td>\n",
       "      <td>0.000000</td>\n",
       "      <td>0.000000</td>\n",
       "      <td>0.000000</td>\n",
       "      <td>0.000000</td>\n",
       "    </tr>\n",
       "    <tr>\n",
       "      <th>25%</th>\n",
       "      <td>17.950000</td>\n",
       "      <td>383.500000</td>\n",
       "      <td>2.625000</td>\n",
       "      <td>0.000000</td>\n",
       "      <td>0.000000</td>\n",
       "      <td>45900.000000</td>\n",
       "      <td>1095.000000</td>\n",
       "      <td>6010.500000</td>\n",
       "      <td>40130.500000</td>\n",
       "    </tr>\n",
       "    <tr>\n",
       "      <th>50%</th>\n",
       "      <td>78.600000</td>\n",
       "      <td>483.500000</td>\n",
       "      <td>4.250000</td>\n",
       "      <td>173.000000</td>\n",
       "      <td>0.000000</td>\n",
       "      <td>57825.000000</td>\n",
       "      <td>1195.000000</td>\n",
       "      <td>7500.000000</td>\n",
       "      <td>52280.000000</td>\n",
       "    </tr>\n",
       "    <tr>\n",
       "      <th>75%</th>\n",
       "      <td>95.000000</td>\n",
       "      <td>601.000000</td>\n",
       "      <td>5.500000</td>\n",
       "      <td>217.000000</td>\n",
       "      <td>23.000000</td>\n",
       "      <td>92993.500000</td>\n",
       "      <td>1300.000000</td>\n",
       "      <td>7500.000000</td>\n",
       "      <td>86929.750000</td>\n",
       "    </tr>\n",
       "    <tr>\n",
       "      <th>max</th>\n",
       "      <td>200.000000</td>\n",
       "      <td>1030.000000</td>\n",
       "      <td>8.000000</td>\n",
       "      <td>322.000000</td>\n",
       "      <td>61.000000</td>\n",
       "      <td>189800.000000</td>\n",
       "      <td>1695.000000</td>\n",
       "      <td>7500.000000</td>\n",
       "      <td>183650.000000</td>\n",
       "    </tr>\n",
       "  </tbody>\n",
       "</table>\n",
       "</div>"
      ],
      "text/plain": [
       "       Battery_(kWh)  EPA_(Total_Range)  0-60_mph_(sec)   Top_Speed  \\\n",
       "count     138.000000         138.000000      138.000000  138.000000   \n",
       "mean       70.170290         508.188406        3.808261  122.050725   \n",
       "std        39.864523         181.300313        2.303965  111.433023   \n",
       "min         7.900000           0.000000        0.000000    0.000000   \n",
       "25%        17.950000         383.500000        2.625000    0.000000   \n",
       "50%        78.600000         483.500000        4.250000  173.000000   \n",
       "75%        95.000000         601.000000        5.500000  217.000000   \n",
       "max       200.000000        1030.000000        8.000000  322.000000   \n",
       "\n",
       "       EPA_(EV_Range)     Base_Price  Dest_Charge   Tax_Credit  \\\n",
       "count      138.000000     138.000000   138.000000   138.000000   \n",
       "mean         9.710145   72926.398551  1172.101449  6155.333333   \n",
       "std         17.033759   41246.523462   270.531925  2587.945104   \n",
       "min          0.000000       0.000000     0.000000     0.000000   \n",
       "25%          0.000000   45900.000000  1095.000000  6010.500000   \n",
       "50%          0.000000   57825.000000  1195.000000  7500.000000   \n",
       "75%         23.000000   92993.500000  1300.000000  7500.000000   \n",
       "max         61.000000  189800.000000  1695.000000  7500.000000   \n",
       "\n",
       "       Effective_Price  \n",
       "count       138.000000  \n",
       "mean      68072.471014  \n",
       "std       41179.834513  \n",
       "min           0.000000  \n",
       "25%       40130.500000  \n",
       "50%       52280.000000  \n",
       "75%       86929.750000  \n",
       "max      183650.000000  "
      ]
     },
     "execution_count": 50,
     "metadata": {},
     "output_type": "execute_result"
    }
   ],
   "source": [
    "df1.describe()"
   ]
  },
  {
   "cell_type": "markdown",
   "metadata": {},
   "source": [
    "#### 3) Now, different combinations of variables can be scatter plotted to understand data distribution"
   ]
  },
  {
   "cell_type": "code",
   "execution_count": 51,
   "metadata": {},
   "outputs": [
    {
     "data": {
      "text/plain": [
       "<seaborn.axisgrid.FacetGrid at 0x1d3d970b430>"
      ]
     },
     "execution_count": 51,
     "metadata": {},
     "output_type": "execute_result"
    },
    {
     "data": {
      "image/png": "[encoded data removed]",
      "text/plain": [
       "<Figure size 420.125x360 with 1 Axes>"
      ]
     },
     "metadata": {
      "needs_background": "light"
     },
     "output_type": "display_data"
    }
   ],
   "source": [
    "sns.relplot(x='Battery_(kWh)',y=\"EPA_(Total_Range)\",hue='Drive',height=5,data=df1)"
   ]
  },
  {
   "cell_type": "code",
   "execution_count": 52,
   "metadata": {},
   "outputs": [
    {
     "data": {
      "text/plain": [
       "<seaborn.axisgrid.FacetGrid at 0x1d3d9667910>"
      ]
     },
     "execution_count": 52,
     "metadata": {},
     "output_type": "execute_result"
    },
    {
     "data": {
      "image/png": "[encoded data removed]",
      "text/plain": [
       "<Figure size 420.125x360 with 1 Axes>"
      ]
     },
     "metadata": {
      "needs_background": "light"
     },
     "output_type": "display_data"
    }
   ],
   "source": [
    "sns.relplot(x='Battery_(kWh)',y=\"Top_Speed\",hue='Drive',height=5,data=df1)"
   ]
  },
  {
   "cell_type": "code",
   "execution_count": 53,
   "metadata": {},
   "outputs": [
    {
     "data": {
      "text/plain": [
       "<seaborn.axisgrid.JointGrid at 0x1d3d9b06830>"
      ]
     },
     "execution_count": 53,
     "metadata": {},
     "output_type": "execute_result"
    },
    {
     "data": {
      "image/png": "[encoded data removed]",
      "text/plain": [
       "<Figure size 432x432 with 3 Axes>"
      ]
     },
     "metadata": {
      "needs_background": "light"
     },
     "output_type": "display_data"
    }
   ],
   "source": [
    "sns.jointplot(x=df1['0-60_mph_(sec)'],y=df1['Top_Speed'],kind='hex')"
   ]
  },
  {
   "cell_type": "markdown",
   "metadata": {},
   "source": [
    "#### Analyzing the dependency of price (Considering Effective price here) on car's features"
   ]
  },
  {
   "cell_type": "code",
   "execution_count": 54,
   "metadata": {},
   "outputs": [
    {
     "name": "stderr",
     "output_type": "stream",
     "text": [
      "C:\\Users\\johns\\AppData\\Local\\Packages\\PythonSoftwareFoundation.Python.3.10_qbz5n2kfra8p0\\LocalCache\\local-packages\\Python310\\site-packages\\seaborn\\distributions.py:2619: FutureWarning: `distplot` is a deprecated function and will be removed in a future version. Please adapt your code to use either `displot` (a figure-level function with similar flexibility) or `histplot` (an axes-level function for histograms).\n",
      "  warnings.warn(msg, FutureWarning)\n"
     ]
    },
    {
     "data": {
      "text/plain": [
       "<AxesSubplot:title={'center':'Car Price Distribution Plot'}, xlabel='Effective_Price', ylabel='Density'>"
      ]
     },
     "execution_count": 54,
     "metadata": {},
     "output_type": "execute_result"
    },
    {
     "data": {
      "image/png": "[encoded data removed]",
      "text/plain": [
       "<Figure size 576x576 with 1 Axes>"
      ]
     },
     "metadata": {
      "needs_background": "light"
     },
     "output_type": "display_data"
    }
   ],
   "source": [
    "plt.figure(figsize=(8,8))\n",
    "plt.title('Car Price Distribution Plot')\n",
    "sns.distplot(df1['Effective_Price'])"
   ]
  },
  {
   "cell_type": "code",
   "execution_count": 55,
   "metadata": {},
   "outputs": [
    {
     "data": {
      "text/plain": [
       "<seaborn.axisgrid.FacetGrid at 0x1d3dc10c850>"
      ]
     },
     "execution_count": 55,
     "metadata": {},
     "output_type": "execute_result"
    },
    {
     "data": {
      "image/png": "[encoded data removed]",
      "text/plain": [
       "<Figure size 432x432 with 1 Axes>"
      ]
     },
     "metadata": {
      "needs_background": "light"
     },
     "output_type": "display_data"
    }
   ],
   "source": [
    "sns.relplot(x=\"Effective_Price\", y=\"EPA_(Total_Range)\", height=6,data=df1)"
   ]
  },
  {
   "cell_type": "code",
   "execution_count": 56,
   "metadata": {},
   "outputs": [
    {
     "data": {
      "text/plain": [
       "<seaborn.axisgrid.FacetGrid at 0x1d3dc13f250>"
      ]
     },
     "execution_count": 56,
     "metadata": {},
     "output_type": "execute_result"
    },
    {
     "data": {
      "image/png": "[encoded data removed]",
      "text/plain": [
       "<Figure size 432x432 with 1 Axes>"
      ]
     },
     "metadata": {
      "needs_background": "light"
     },
     "output_type": "display_data"
    }
   ],
   "source": [
    "sns.relplot(x=\"Effective_Price\", y=\"Battery_(kWh)\", height=6,data=df1)"
   ]
  },
  {
   "cell_type": "code",
   "execution_count": 57,
   "metadata": {},
   "outputs": [
    {
     "data": {
      "text/plain": [
       "<seaborn.axisgrid.FacetGrid at 0x1d3d6a8ad70>"
      ]
     },
     "execution_count": 57,
     "metadata": {},
     "output_type": "execute_result"
    },
    {
     "data": {
      "image/png": "[encoded data removed]",
      "text/plain": [
       "<Figure size 432x432 with 1 Axes>"
      ]
     },
     "metadata": {
      "needs_background": "light"
     },
     "output_type": "display_data"
    }
   ],
   "source": [
    "sns.relplot(x=\"Effective_Price\", y=\"Top_Speed\", height=6,data=df1)"
   ]
  },
  {
   "cell_type": "markdown",
   "metadata": {},
   "source": [
    "#### While other plots looked more scattered, the relationship of price with battery and with Top Speed is seen more strongly in the last 2 graphs."
   ]
  },
  {
   "cell_type": "code",
   "execution_count": 89,
   "metadata": {},
   "outputs": [
    {
     "data": {
      "text/plain": [
       "<seaborn.axisgrid.FacetGrid at 0x1d3e67b38e0>"
      ]
     },
     "execution_count": 89,
     "metadata": {},
     "output_type": "execute_result"
    },
    {
     "data": {
      "image/png": "[encoded data removed]",
      "text/plain": [
       "<Figure size 432x432 with 1 Axes>"
      ]
     },
     "metadata": {
      "needs_background": "light"
     },
     "output_type": "display_data"
    }
   ],
   "source": [
    "sns.relplot(x=\"Effective_Price\", y=\"0-60_mph_(sec)\", height=6,data=df1)"
   ]
  },
  {
   "cell_type": "markdown",
   "metadata": {},
   "source": [
    "#### This plot is more intriguing. It shows that, with decreased time required for acceleration (which is a favourable quality in a vehicle), the cost of the vehicle reduces too... which is counterintuitive. <br><br>\n",
    "#### This might be explained in the following sense:<br> As the price of the vehicle increases, the vehicle's engineering is expected to be such that it's wearing quality is minimized. This is reflected in it's acceleration quality, where it's taken care that it doesn't reach arbitrary speeds spontaneously leading to faster wear and tear.<br>"
   ]
  },
  {
   "cell_type": "markdown",
   "metadata": {},
   "source": [
    "<br>"
   ]
  },
  {
   "cell_type": "markdown",
   "metadata": {},
   "source": [
    "# Price Prediction using Machine Learning"
   ]
  },
  {
   "cell_type": "markdown",
   "metadata": {},
   "source": [
    "### Since our original dataset df had 5 of it's columns namely Drive, Battery_(kWh), EPA_(Total_Range), 0-60_mph_(sec) and Effective_Price (ignoring other 'price' columns as they are all corellated) with all 138 rows as \"non-null\", it would be safe to work with these 5 columns alone."
   ]
  },
  {
   "cell_type": "code",
   "execution_count": 58,
   "metadata": {},
   "outputs": [
    {
     "name": "stdout",
     "output_type": "stream",
     "text": [
      "<class 'pandas.core.frame.DataFrame'>\n",
      "Int64Index: 138 entries, 0 to 137\n",
      "Data columns (total 11 columns):\n",
      " #   Column             Non-Null Count  Dtype \n",
      "---  ------             --------------  ----- \n",
      " 0   Model              138 non-null    object\n",
      " 1   Drive              138 non-null    object\n",
      " 2   Battery_(kWh)      138 non-null    object\n",
      " 3   EPA_(Total_Range)  138 non-null    object\n",
      " 4   0-60_mph_(sec)     138 non-null    object\n",
      " 5   Top_Speed          101 non-null    object\n",
      " 6   EPA_(EV_Range)     37 non-null     object\n",
      " 7   Base_Price         138 non-null    object\n",
      " 8   Dest_Charge        138 non-null    object\n",
      " 9   Tax_Credit         138 non-null    object\n",
      " 10  Effective_Price    138 non-null    object\n",
      "dtypes: object(11)\n",
      "memory usage: 17.0+ KB\n"
     ]
    }
   ],
   "source": [
    "df.info()"
   ]
  },
  {
   "cell_type": "markdown",
   "metadata": {},
   "source": [
    "### Since our machine learning model takes only number inputs, we have to convert 'Drive' from string to a number representation:"
   ]
  },
  {
   "cell_type": "code",
   "execution_count": 59,
   "metadata": {},
   "outputs": [],
   "source": [
    "import category_encoders as ce\n",
    "train_df=df1\n",
    "encoder= ce.OrdinalEncoder(cols=['Drive'],return_df=True, mapping=[{'col':'Drive','mapping':{'FWD':1,'RWD':2,'AWD':3}}])\n",
    " \n",
    "df_train = encoder.fit_transform(train_df)"
   ]
  },
  {
   "cell_type": "code",
   "execution_count": 60,
   "metadata": {},
   "outputs": [
    {
     "name": "stdout",
     "output_type": "stream",
     "text": [
      "<class 'pandas.core.frame.DataFrame'>\n",
      "Int64Index: 138 entries, 0 to 137\n",
      "Data columns (total 12 columns):\n",
      " #   Column             Non-Null Count  Dtype  \n",
      "---  ------             --------------  -----  \n",
      " 0   Model              138 non-null    object \n",
      " 1   Drive              138 non-null    int32  \n",
      " 2   Battery_(kWh)      138 non-null    float64\n",
      " 3   EPA_(Total_Range)  138 non-null    float64\n",
      " 4   0-60_mph_(sec)     138 non-null    float64\n",
      " 5   Top_Speed          138 non-null    float64\n",
      " 6   EPA_(EV_Range)     138 non-null    float64\n",
      " 7   Base_Price         138 non-null    float64\n",
      " 8   Dest_Charge        138 non-null    float64\n",
      " 9   Tax_Credit         138 non-null    float64\n",
      " 10  Effective_Price    138 non-null    float64\n",
      " 11  Manufacturer       138 non-null    object \n",
      "dtypes: float64(9), int32(1), object(2)\n",
      "memory usage: 17.5+ KB\n"
     ]
    }
   ],
   "source": [
    "df_train.info()"
   ]
  },
  {
   "cell_type": "markdown",
   "metadata": {},
   "source": [
    "### Dropping all the string columns, leaving only columns with float/integer points, so that it can be modelled using machine learning (in this case, Random Forest Regression will be used)"
   ]
  },
  {
   "cell_type": "code",
   "execution_count": 61,
   "metadata": {},
   "outputs": [],
   "source": [
    "X= df_train.drop(['Model', 'Top_Speed','EPA_(EV_Range)','Base_Price','Dest_Charge','Tax_Credit','Effective_Price' ,'Manufacturer'], axis=1)\n",
    "X=X.values"
   ]
  },
  {
   "cell_type": "code",
   "execution_count": 62,
   "metadata": {},
   "outputs": [
    {
     "data": {
      "text/plain": [
       "array([[3.000e+00, 9.340e+01, 3.830e+02, 3.900e+00],\n",
       "       [3.000e+00, 9.340e+01, 3.730e+02, 3.100e+00],\n",
       "       [3.000e+00, 9.500e+01, 3.570e+02, 5.500e+00],\n",
       "       [3.000e+00, 9.500e+01, 3.510e+02, 5.500e+00],\n",
       "       [3.000e+00, 9.500e+01, 3.350e+02, 4.300e+00],\n",
       "       [3.000e+00, 9.500e+01, 2.910e+02, 4.300e+00],\n",
       "       [3.000e+00, 9.500e+01, 3.410e+02, 4.300e+00],\n",
       "       [3.000e+00, 9.500e+01, 2.980e+02, 4.300e+00],\n",
       "       [2.000e+00, 8.200e+01, 4.020e+02, 7.900e+00],\n",
       "       [3.000e+00, 8.200e+01, 3.880e+02, 5.800e+00],\n",
       "       [3.000e+00, 8.200e+01, 3.880e+02, 5.800e+00],\n",
       "       [2.000e+00, 8.390e+01, 4.840e+02, 5.500e+00],\n",
       "       [3.000e+00, 8.390e+01, 4.340e+02, 3.700e+00],\n",
       "       [3.000e+00, 1.115e+02, 5.210e+02, 4.400e+00],\n",
       "       [1.000e+00, 6.500e+01, 4.170e+02, 6.500e+00],\n",
       "       [1.000e+00, 6.500e+01, 3.970e+02, 7.000e+00],\n",
       "       [3.000e+00, 1.100e+02, 3.700e+02, 0.000e+00],\n",
       "       [3.000e+00, 1.450e+02, 4.830e+02, 0.000e+00],\n",
       "       [3.000e+00, 1.100e+02, 3.700e+02, 0.000e+00],\n",
       "       [3.000e+00, 1.450e+02, 4.830e+02, 0.000e+00],\n",
       "       [3.000e+00, 1.100e+02, 3.700e+02, 0.000e+00],\n",
       "       [3.000e+00, 1.450e+02, 4.830e+02, 0.000e+00],\n",
       "       [3.000e+00, 1.450e+02, 4.510e+02, 0.000e+00],\n",
       "       [2.000e+00, 7.570e+01, 3.970e+02, 5.800e+00],\n",
       "       [3.000e+00, 7.570e+01, 3.600e+02, 5.200e+00],\n",
       "       [2.000e+00, 7.570e+01, 3.970e+02, 5.800e+00],\n",
       "       [3.000e+00, 7.570e+01, 3.600e+02, 5.200e+00],\n",
       "       [2.000e+00, 9.880e+01, 4.880e+02, 6.100e+00],\n",
       "       [3.000e+00, 9.880e+01, 4.460e+02, 4.800e+00],\n",
       "       [2.000e+00, 9.880e+01, 5.050e+02, 6.100e+00],\n",
       "       [3.000e+00, 9.880e+01, 5.020e+02, 4.800e+00],\n",
       "       [3.000e+00, 9.880e+01, 4.340e+02, 3.800e+00],\n",
       "       [3.000e+00, 9.880e+01, 4.180e+02, 3.500e+00],\n",
       "       [3.000e+00, 2.000e+02, 5.290e+02, 3.000e+00],\n",
       "       [2.000e+00, 5.820e+01, 3.540e+02, 0.000e+00],\n",
       "       [2.000e+00, 7.740e+01, 4.880e+02, 0.000e+00],\n",
       "       [3.000e+00, 7.740e+01, 4.120e+02, 5.000e+00],\n",
       "       [2.000e+00, 7.740e+01, 4.880e+02, 0.000e+00],\n",
       "       [3.000e+00, 7.740e+01, 4.120e+02, 5.000e+00],\n",
       "       [2.000e+00, 7.740e+01, 4.880e+02, 0.000e+00],\n",
       "       [3.000e+00, 7.740e+01, 4.120e+02, 5.000e+00],\n",
       "       [1.000e+00, 6.400e+01, 4.150e+02, 7.900e+00],\n",
       "       [3.000e+00, 9.000e+01, 3.770e+02, 4.500e+00],\n",
       "       [2.000e+00, 5.800e+01, 3.730e+02, 8.000e+00],\n",
       "       [2.000e+00, 7.740e+01, 4.990e+02, 7.200e+00],\n",
       "       [3.000e+00, 7.740e+01, 4.410e+02, 5.100e+00],\n",
       "       [2.000e+00, 7.740e+01, 4.990e+02, 7.200e+00],\n",
       "       [3.000e+00, 7.740e+01, 4.410e+02, 5.100e+00],\n",
       "       [3.000e+00, 7.740e+01, 4.260e+02, 5.100e+00],\n",
       "       [1.000e+00, 6.400e+01, 3.850e+02, 7.500e+00],\n",
       "       [3.000e+00, 1.180e+02, 7.580e+02, 2.500e+00],\n",
       "       [3.000e+00, 1.180e+02, 7.260e+02, 2.420e+00],\n",
       "       [3.000e+00, 1.180e+02, 8.370e+02, 2.700e+00],\n",
       "       [3.000e+00, 1.180e+02, 7.740e+02, 2.740e+00],\n",
       "       [3.000e+00, 1.120e+02, 8.300e+02, 3.000e+00],\n",
       "       [3.000e+00, 1.120e+02, 7.550e+02, 3.000e+00],\n",
       "       [1.000e+00, 3.550e+01, 1.610e+02, 0.000e+00],\n",
       "       [2.000e+00, 1.150e+02, 5.630e+02, 5.900e+00],\n",
       "       [3.000e+00, 1.150e+02, 5.470e+02, 4.100e+00],\n",
       "       [1.000e+00, 3.260e+01, 1.830e+02, 6.900e+00],\n",
       "       [1.000e+00, 4.000e+01, 2.400e+02, 7.400e+00],\n",
       "       [1.000e+00, 6.200e+01, 3.640e+02, 6.500e+00],\n",
       "       [1.000e+00, 6.200e+01, 3.460e+02, 6.500e+00],\n",
       "       [1.000e+00, 7.800e+01, 4.340e+02, 7.000e+00],\n",
       "       [3.000e+00, 7.800e+01, 4.010e+02, 4.500e+00],\n",
       "       [2.000e+00, 7.920e+01, 3.220e+02, 5.100e+00],\n",
       "       [2.000e+00, 9.340e+01, 3.620e+02, 5.100e+00],\n",
       "       [3.000e+00, 7.920e+01, 3.200e+02, 3.800e+00],\n",
       "       [3.000e+00, 9.340e+01, 3.650e+02, 3.800e+00],\n",
       "       [3.000e+00, 9.340e+01, 0.000e+00, 3.500e+00],\n",
       "       [3.000e+00, 9.340e+01, 3.410e+02, 3.000e+00],\n",
       "       [3.000e+00, 9.340e+01, 3.230e+02, 2.600e+00],\n",
       "       [3.000e+00, 9.340e+01, 3.460e+02, 4.800e+00],\n",
       "       [3.000e+00, 9.340e+01, 3.460e+02, 3.900e+00],\n",
       "       [3.000e+00, 9.340e+01, 0.000e+00, 3.500e+00],\n",
       "       [3.000e+00, 9.340e+01, 3.280e+02, 3.100e+00],\n",
       "       [3.000e+00, 9.340e+01, 3.250e+02, 2.700e+00],\n",
       "       [3.000e+00, 1.350e+02, 5.080e+02, 3.000e+00],\n",
       "       [3.000e+00, 1.350e+02, 5.050e+02, 3.000e+00],\n",
       "       [2.000e+00, 6.000e+01, 4.380e+02, 5.800e+00],\n",
       "       [2.000e+00, 6.000e+01, 4.300e+02, 5.800e+00],\n",
       "       [3.000e+00, 8.000e+01, 5.760e+02, 4.200e+00],\n",
       "       [3.000e+00, 8.000e+01, 5.370e+02, 4.200e+00],\n",
       "       [3.000e+00, 8.000e+01, 5.070e+02, 3.100e+00],\n",
       "       [3.000e+00, 1.000e+02, 6.520e+02, 3.100e+00],\n",
       "       [3.000e+00, 1.000e+02, 6.030e+02, 3.100e+00],\n",
       "       [3.000e+00, 1.000e+02, 6.370e+02, 1.990e+00],\n",
       "       [3.000e+00, 1.000e+02, 5.600e+02, 1.990e+00],\n",
       "       [3.000e+00, 1.000e+02, 5.600e+02, 3.800e+00],\n",
       "       [3.000e+00, 1.000e+02, 5.340e+02, 3.800e+00],\n",
       "       [3.000e+00, 1.000e+02, 5.360e+02, 2.500e+00],\n",
       "       [3.000e+00, 1.000e+02, 5.000e+02, 2.500e+00],\n",
       "       [3.000e+00, 8.000e+01, 5.310e+02, 4.800e+00],\n",
       "       [3.000e+00, 8.000e+01, 5.120e+02, 4.800e+00],\n",
       "       [3.000e+00, 8.000e+01, 4.880e+02, 3.500e+00],\n",
       "       [3.000e+00, 7.800e+01, 3.640e+02, 4.700e+00],\n",
       "       [3.000e+00, 7.800e+01, 3.590e+02, 4.700e+00],\n",
       "       [2.000e+00, 8.200e+01, 4.180e+02, 7.700e+00],\n",
       "       [2.000e+00, 8.200e+01, 4.020e+02, 7.800e+00],\n",
       "       [3.000e+00, 8.200e+01, 4.010e+02, 5.700e+00],\n",
       "       [3.000e+00, 8.200e+01, 3.860e+02, 5.800e+00],\n",
       "       [3.000e+00, 1.790e+01, 6.600e+02, 5.700e+00],\n",
       "       [3.000e+00, 1.790e+01, 6.280e+02, 5.000e+00],\n",
       "       [2.000e+00, 1.200e+01, 5.150e+02, 5.600e+00],\n",
       "       [3.000e+00, 1.200e+01, 4.670e+02, 5.700e+00],\n",
       "       [2.000e+00, 1.200e+01, 5.470e+02, 5.700e+00],\n",
       "       [3.000e+00, 1.200e+01, 5.150e+02, 5.700e+00],\n",
       "       [3.000e+00, 1.200e+01, 4.670e+02, 4.900e+00],\n",
       "       [3.000e+00, 2.160e+01, 6.440e+02, 5.300e+00],\n",
       "       [1.000e+00, 1.600e+01, 8.370e+02, 0.000e+00],\n",
       "       [3.000e+00, 7.900e+00, 5.310e+02, 2.500e+00],\n",
       "       [1.000e+00, 1.440e+01, 8.370e+02, 0.000e+00],\n",
       "       [1.000e+00, 8.900e+00, 9.980e+02, 0.000e+00],\n",
       "       [3.000e+00, 1.380e+01, 7.080e+02, 0.000e+00],\n",
       "       [3.000e+00, 1.380e+01, 6.760e+02, 0.000e+00],\n",
       "       [3.000e+00, 1.700e+01, 7.080e+02, 0.000e+00],\n",
       "       [3.000e+00, 1.700e+01, 5.950e+02, 6.000e+00],\n",
       "       [1.000e+00, 8.900e+00, 9.010e+02, 0.000e+00],\n",
       "       [3.000e+00, 1.380e+01, 7.400e+02, 0.000e+00],\n",
       "       [3.000e+00, 1.810e+01, 8.850e+02, 6.000e+00],\n",
       "       [3.000e+00, 1.360e+01, 7.400e+02, 0.000e+00],\n",
       "       [3.000e+00, 1.440e+01, 6.920e+02, 0.000e+00],\n",
       "       [3.000e+00, 1.000e+01, 4.830e+02, 6.700e+00],\n",
       "       [3.000e+00, 1.380e+01, 5.150e+02, 0.000e+00],\n",
       "       [3.000e+00, 1.790e+01, 6.920e+02, 4.700e+00],\n",
       "       [3.000e+00, 1.790e+01, 6.920e+02, 4.800e+00],\n",
       "       [3.000e+00, 1.790e+01, 5.950e+02, 3.600e+00],\n",
       "       [3.000e+00, 1.790e+01, 5.950e+02, 3.600e+00],\n",
       "       [3.000e+00, 1.790e+01, 7.720e+02, 4.200e+00],\n",
       "       [3.000e+00, 1.790e+01, 7.720e+02, 3.500e+00],\n",
       "       [3.000e+00, 1.790e+01, 6.920e+02, 3.000e+00],\n",
       "       [3.000e+00, 8.800e+00, 7.720e+02, 0.000e+00],\n",
       "       [1.000e+00, 8.800e+00, 1.030e+03, 0.000e+00],\n",
       "       [3.000e+00, 1.160e+01, 8.210e+02, 4.300e+00],\n",
       "       [3.000e+00, 1.160e+01, 7.880e+02, 4.800e+00],\n",
       "       [3.000e+00, 1.160e+01, 8.210e+02, 4.300e+00],\n",
       "       [3.000e+00, 1.160e+01, 8.050e+02, 0.000e+00],\n",
       "       [3.000e+00, 1.160e+01, 8.370e+02, 0.000e+00]])"
      ]
     },
     "execution_count": 62,
     "metadata": {},
     "output_type": "execute_result"
    }
   ],
   "source": [
    "X"
   ]
  },
  {
   "cell_type": "markdown",
   "metadata": {},
   "source": [
    "### Target data:"
   ]
  },
  {
   "cell_type": "code",
   "execution_count": 63,
   "metadata": {},
   "outputs": [],
   "source": [
    "Y=df_train['Effective_Price'].values"
   ]
  },
  {
   "cell_type": "markdown",
   "metadata": {},
   "source": [
    "### Splitting the data into a 4/5,1/5 ratio training data and test data sets"
   ]
  },
  {
   "cell_type": "code",
   "execution_count": 64,
   "metadata": {},
   "outputs": [],
   "source": [
    "from sklearn.model_selection import train_test_split\n",
    "X_train, X_test, y_train, y_test = train_test_split(X, Y, test_size=0.2, random_state=7)"
   ]
  },
  {
   "cell_type": "code",
   "execution_count": 65,
   "metadata": {},
   "outputs": [],
   "source": [
    "regressor = RandomForestRegressor(n_estimators = 300, random_state = 0)"
   ]
  },
  {
   "cell_type": "code",
   "execution_count": 66,
   "metadata": {},
   "outputs": [
    {
     "data": {
      "text/html": [
       "<style>#sk-container-id-1 {color: black;background-color: white;}#sk-container-id-1 pre{padding: 0;}#sk-container-id-1 div.sk-toggleable {background-color: white;}#sk-container-id-1 label.sk-toggleable__label {cursor: pointer;display: block;width: 100%;margin-bottom: 0;padding: 0.3em;box-sizing: border-box;text-align: center;}#sk-container-id-1 label.sk-toggleable__label-arrow:before {content: \"▸\";float: left;margin-right: 0.25em;color: #696969;}#sk-container-id-1 label.sk-toggleable__label-arrow:hover:before {color: black;}#sk-container-id-1 div.sk-estimator:hover label.sk-toggleable__label-arrow:before {color: black;}#sk-container-id-1 div.sk-toggleable__content {max-height: 0;max-width: 0;overflow: hidden;text-align: left;background-color: #f0f8ff;}#sk-container-id-1 div.sk-toggleable__content pre {margin: 0.2em;color: black;border-radius: 0.25em;background-color: #f0f8ff;}#sk-container-id-1 input.sk-toggleable__control:checked~div.sk-toggleable__content {max-height: 200px;max-width: 100%;overflow: auto;}#sk-container-id-1 input.sk-toggleable__control:checked~label.sk-toggleable__label-arrow:before {content: \"▾\";}#sk-container-id-1 div.sk-estimator input.sk-toggleable__control:checked~label.sk-toggleable__label {background-color: #d4ebff;}#sk-container-id-1 div.sk-label input.sk-toggleable__control:checked~label.sk-toggleable__label {background-color: #d4ebff;}#sk-container-id-1 input.sk-hidden--visually {border: 0;clip: rect(1px 1px 1px 1px);clip: rect(1px, 1px, 1px, 1px);height: 1px;margin: -1px;overflow: hidden;padding: 0;position: absolute;width: 1px;}#sk-container-id-1 div.sk-estimator {font-family: monospace;background-color: #f0f8ff;border: 1px dotted black;border-radius: 0.25em;box-sizing: border-box;margin-bottom: 0.5em;}#sk-container-id-1 div.sk-estimator:hover {background-color: #d4ebff;}#sk-container-id-1 div.sk-parallel-item::after {content: \"\";width: 100%;border-bottom: 1px solid gray;flex-grow: 1;}#sk-container-id-1 div.sk-label:hover label.sk-toggleable__label {background-color: #d4ebff;}#sk-container-id-1 div.sk-serial::before {content: \"\";position: absolute;border-left: 1px solid gray;box-sizing: border-box;top: 0;bottom: 0;left: 50%;z-index: 0;}#sk-container-id-1 div.sk-serial {display: flex;flex-direction: column;align-items: center;background-color: white;padding-right: 0.2em;padding-left: 0.2em;position: relative;}#sk-container-id-1 div.sk-item {position: relative;z-index: 1;}#sk-container-id-1 div.sk-parallel {display: flex;align-items: stretch;justify-content: center;background-color: white;position: relative;}#sk-container-id-1 div.sk-item::before, #sk-container-id-1 div.sk-parallel-item::before {content: \"\";position: absolute;border-left: 1px solid gray;box-sizing: border-box;top: 0;bottom: 0;left: 50%;z-index: -1;}#sk-container-id-1 div.sk-parallel-item {display: flex;flex-direction: column;z-index: 1;position: relative;background-color: white;}#sk-container-id-1 div.sk-parallel-item:first-child::after {align-self: flex-end;width: 50%;}#sk-container-id-1 div.sk-parallel-item:last-child::after {align-self: flex-start;width: 50%;}#sk-container-id-1 div.sk-parallel-item:only-child::after {width: 0;}#sk-container-id-1 div.sk-dashed-wrapped {border: 1px dashed gray;margin: 0 0.4em 0.5em 0.4em;box-sizing: border-box;padding-bottom: 0.4em;background-color: white;}#sk-container-id-1 div.sk-label label {font-family: monospace;font-weight: bold;display: inline-block;line-height: 1.2em;}#sk-container-id-1 div.sk-label-container {text-align: center;}#sk-container-id-1 div.sk-container {/* jupyter's `normalize.less` sets `[hidden] { display: none; }` but bootstrap.min.css set `[hidden] { display: none !important; }` so we also need the `!important` here to be able to override the default hidden behavior on the sphinx rendered scikit-learn.org. See: https://github.com/scikit-learn/scikit-learn/issues/21755 */display: inline-block !important;position: relative;}#sk-container-id-1 div.sk-text-repr-fallback {display: none;}</style><div id=\"sk-container-id-1\" class=\"sk-top-container\"><div class=\"sk-text-repr-fallback\"><pre>RandomForestRegressor(n_estimators=300, random_state=0)</pre><b>In a Jupyter environment, please rerun this cell to show the HTML representation or trust the notebook. <br />On GitHub, the HTML representation is unable to render, please try loading this page with nbviewer.org.</b></div><div class=\"sk-container\" hidden><div class=\"sk-item\"><div class=\"sk-estimator sk-toggleable\"><input class=\"sk-toggleable__control sk-hidden--visually\" id=\"sk-estimator-id-1\" type=\"checkbox\" checked><label for=\"sk-estimator-id-1\" class=\"sk-toggleable__label sk-toggleable__label-arrow\">RandomForestRegressor</label><div class=\"sk-toggleable__content\"><pre>RandomForestRegressor(n_estimators=300, random_state=0)</pre></div></div></div></div></div>"
      ],
      "text/plain": [
       "RandomForestRegressor(n_estimators=300, random_state=0)"
      ]
     },
     "execution_count": 66,
     "metadata": {},
     "output_type": "execute_result"
    }
   ],
   "source": [
    "regressor.fit(X_train, y_train)"
   ]
  },
  {
   "cell_type": "code",
   "execution_count": 67,
   "metadata": {},
   "outputs": [],
   "source": [
    "y_pred= regressor.predict(X_test)"
   ]
  },
  {
   "cell_type": "markdown",
   "metadata": {},
   "source": [
    "### Checking if this y fits the test_y approximately (by finding the difference and dividing by mean of test set, we get a reasonable estimate of this):"
   ]
  },
  {
   "cell_type": "code",
   "execution_count": 68,
   "metadata": {},
   "outputs": [
    {
     "data": {
      "text/plain": [
       "array([ 0.29665916,  0.18120262, -0.04261745,  0.07558398, -0.38929875,\n",
       "        0.27149254,  0.06958808, -0.19389189, -0.09551556,  0.26826702,\n",
       "        0.08391868,  0.6112462 ,  0.19357806,  0.08527492,  0.28413247,\n",
       "       -0.17723788,  0.10303638, -0.22461319, -0.19637011, -0.15757054,\n",
       "       -0.11002937, -0.64361689,  0.13469285, -0.09251108,  0.08824931,\n",
       "        0.10626801, -0.06737496,  0.06740156])"
      ]
     },
     "execution_count": 68,
     "metadata": {},
     "output_type": "execute_result"
    }
   ],
   "source": [
    "(y_pred-y_test)/y_test.mean()"
   ]
  },
  {
   "cell_type": "markdown",
   "metadata": {},
   "source": [
    "### It indeed does fit the test_model satisfactorily!"
   ]
  },
  {
   "cell_type": "markdown",
   "metadata": {},
   "source": [
    "## Standard Accuracy metrics for Predicted Prices of Electric Vehicle:"
   ]
  },
  {
   "cell_type": "markdown",
   "metadata": {},
   "source": [
    "### Finding mean absolute error:"
   ]
  },
  {
   "cell_type": "code",
   "execution_count": 69,
   "metadata": {},
   "outputs": [
    {
     "data": {
      "text/plain": [
       "12480.457653061225"
      ]
     },
     "execution_count": 69,
     "metadata": {},
     "output_type": "execute_result"
    }
   ],
   "source": [
    "mean_absolute_error(y_test,y_pred)"
   ]
  },
  {
   "cell_type": "markdown",
   "metadata": {},
   "source": [
    "### Mean squared error:"
   ]
  },
  {
   "cell_type": "code",
   "execution_count": 70,
   "metadata": {},
   "outputs": [
    {
     "data": {
      "text/plain": [
       "250521332.35826877"
      ]
     },
     "execution_count": 70,
     "metadata": {},
     "output_type": "execute_result"
    }
   ],
   "source": [
    "mean_squared_error(y_test,y_pred)"
   ]
  },
  {
   "cell_type": "markdown",
   "metadata": {},
   "source": [
    "### Finding R Squared:"
   ]
  },
  {
   "cell_type": "code",
   "execution_count": 71,
   "metadata": {},
   "outputs": [
    {
     "name": "stdout",
     "output_type": "stream",
     "text": [
      "0.836487461691021\n"
     ]
    }
   ],
   "source": [
    "r2 = r2_score(y_test,y_pred)\n",
    "print(r2)"
   ]
  },
  {
   "cell_type": "markdown",
   "metadata": {},
   "source": [
    "### This model has a good R score, hence it fits the test values well."
   ]
  },
  {
   "cell_type": "markdown",
   "metadata": {},
   "source": [
    "<br>"
   ]
  },
  {
   "cell_type": "markdown",
   "metadata": {},
   "source": [
    "## We can try to solve the same using Neural Network"
   ]
  },
  {
   "cell_type": "code",
   "execution_count": 72,
   "metadata": {},
   "outputs": [
    {
     "name": "stdout",
     "output_type": "stream",
     "text": [
      "Model: \"sequential\"\n",
      "_________________________________________________________________\n",
      " Layer (type)                Output Shape              Param #   \n",
      "=================================================================\n",
      " dense (Dense)               (None, 32)                160       \n",
      "                                                                 \n",
      " dense_1 (Dense)             (None, 1)                 33        \n",
      "                                                                 \n",
      "=================================================================\n",
      "Total params: 193\n",
      "Trainable params: 193\n",
      "Non-trainable params: 0\n",
      "_________________________________________________________________\n"
     ]
    }
   ],
   "source": [
    "from keras.models import Sequential\n",
    "from keras.layers import Dense\n",
    "\n",
    "model = Sequential()\n",
    "model.add(Dense(units=32, activation='sigmoid', input_shape=(4,)))\n",
    "model.add(Dense(units=1, activation='softmax'))\n",
    "\n",
    "model.summary()"
   ]
  },
  {
   "cell_type": "code",
   "execution_count": 73,
   "metadata": {},
   "outputs": [
    {
     "name": "stdout",
     "output_type": "stream",
     "text": [
      "Epoch 1/9\n",
      "10/10 [==============================] - 1s 23ms/step - loss: 0.0000e+00 - accuracy: 0.0000e+00 - val_loss: 0.0000e+00 - val_accuracy: 0.0000e+00\n",
      "Epoch 2/9\n",
      "10/10 [==============================] - 0s 4ms/step - loss: 0.0000e+00 - accuracy: 0.0000e+00 - val_loss: 0.0000e+00 - val_accuracy: 0.0000e+00\n",
      "Epoch 3/9\n",
      "10/10 [==============================] - 0s 4ms/step - loss: 0.0000e+00 - accuracy: 0.0000e+00 - val_loss: 0.0000e+00 - val_accuracy: 0.0000e+00\n",
      "Epoch 4/9\n",
      "10/10 [==============================] - 0s 4ms/step - loss: 0.0000e+00 - accuracy: 0.0000e+00 - val_loss: 0.0000e+00 - val_accuracy: 0.0000e+00\n",
      "Epoch 5/9\n",
      "10/10 [==============================] - 0s 4ms/step - loss: 0.0000e+00 - accuracy: 0.0000e+00 - val_loss: 0.0000e+00 - val_accuracy: 0.0000e+00\n",
      "Epoch 6/9\n",
      "10/10 [==============================] - 0s 4ms/step - loss: 0.0000e+00 - accuracy: 0.0000e+00 - val_loss: 0.0000e+00 - val_accuracy: 0.0000e+00\n",
      "Epoch 7/9\n",
      "10/10 [==============================] - 0s 4ms/step - loss: 0.0000e+00 - accuracy: 0.0000e+00 - val_loss: 0.0000e+00 - val_accuracy: 0.0000e+00\n",
      "Epoch 8/9\n",
      "10/10 [==============================] - 0s 4ms/step - loss: 0.0000e+00 - accuracy: 0.0000e+00 - val_loss: 0.0000e+00 - val_accuracy: 0.0000e+00\n",
      "Epoch 9/9\n",
      "10/10 [==============================] - 0s 4ms/step - loss: 0.0000e+00 - accuracy: 0.0000e+00 - val_loss: 0.0000e+00 - val_accuracy: 0.0000e+00\n"
     ]
    }
   ],
   "source": [
    "model.compile(optimizer=\"sgd\", loss='categorical_crossentropy', metrics=['accuracy'])\n",
    "\n",
    "history = model.fit(X_train, y_train, batch_size=10, epochs=9, verbose=True, validation_split=.1)"
   ]
  },
  {
   "cell_type": "code",
   "execution_count": 74,
   "metadata": {},
   "outputs": [
    {
     "name": "stdout",
     "output_type": "stream",
     "text": [
      "1/1 [==============================] - 0s 24ms/step - loss: 0.0000e+00 - accuracy: 0.0000e+00\n"
     ]
    },
    {
     "data": {
      "image/png": "[encoded data removed]",
      "text/plain": [
       "<Figure size 432x288 with 1 Axes>"
      ]
     },
     "metadata": {
      "needs_background": "light"
     },
     "output_type": "display_data"
    },
    {
     "data": {
      "image/png": "[encoded data removed]",
      "text/plain": [
       "<Figure size 432x288 with 1 Axes>"
      ]
     },
     "metadata": {
      "needs_background": "light"
     },
     "output_type": "display_data"
    },
    {
     "name": "stdout",
     "output_type": "stream",
     "text": [
      "Test loss: 0.0\n",
      "Test accuracy: 0.0\n"
     ]
    }
   ],
   "source": [
    "loss, accuracy  = model.evaluate(X_test, y_test, verbose=True)\n",
    "\n",
    "plt.plot(history.history['accuracy'])\n",
    "plt.plot(history.history['val_accuracy'])\n",
    "plt.title('model accuracy')\n",
    "plt.ylabel('accuracy')\n",
    "plt.xlabel('epoch')\n",
    "plt.legend(['training', 'validation'], loc='best')\n",
    "\n",
    "plt.show()\n",
    "\n",
    "plt.plot(history.history['loss'])\n",
    "plt.plot(history.history['val_loss'])\n",
    "plt.title('model loss')\n",
    "plt.ylabel('loss')\n",
    "plt.xlabel('epoch')\n",
    "plt.legend(['training', 'validation'], loc='best')\n",
    "\n",
    "plt.show()\n",
    "\n",
    "print(f'Test loss: {loss:.3}')\n",
    "print(f'Test accuracy: {accuracy:.3}')"
   ]
  },
  {
   "cell_type": "code",
   "execution_count": 76,
   "metadata": {},
   "outputs": [
    {
     "name": "stdout",
     "output_type": "stream",
     "text": [
      "1/1 [==============================] - 0s 22ms/step\n",
      "-2.8253903475948183\n"
     ]
    }
   ],
   "source": [
    "r2 = r2_score(y_test,model.predict(X_test))\n",
    "print(r2)"
   ]
  },
  {
   "cell_type": "markdown",
   "metadata": {},
   "source": [
    "### As indicated by the graphs, and the negative R square, neural networks doesn't model this system very well. This must be due to the limited amount of data (only 138 entries) available for training."
   ]
  },
  {
   "cell_type": "markdown",
   "metadata": {},
   "source": [
    "<br>"
   ]
  },
  {
   "cell_type": "markdown",
   "metadata": {},
   "source": [
    "## We could also try modelling this problem using **Linear Regression**"
   ]
  },
  {
   "cell_type": "markdown",
   "metadata": {},
   "source": [
    "<br>"
   ]
  },
  {
   "cell_type": "code",
   "execution_count": 77,
   "metadata": {},
   "outputs": [],
   "source": [
    "from sklearn.linear_model import LinearRegression"
   ]
  },
  {
   "cell_type": "code",
   "execution_count": 78,
   "metadata": {},
   "outputs": [],
   "source": [
    "model=LinearRegression()\n",
    "model=model.fit(X_train,y_train)\n",
    "y_pred=model.predict(X_test)"
   ]
  },
  {
   "cell_type": "code",
   "execution_count": 81,
   "metadata": {},
   "outputs": [
    {
     "data": {
      "text/plain": [
       "array([ 0.40515744,  0.21344523,  0.41188965, -0.03307684,  0.19616429,\n",
       "        0.2740244 ,  0.50748354,  0.16185973,  0.13962056,  0.32923816,\n",
       "        0.50539682,  0.26770689,  0.52363842,  0.39426659,  0.15972128,\n",
       "        0.48169983,  0.54514579, -1.57618582, -0.94916531, -0.255725  ,\n",
       "       -0.20050859, -0.71198163, -0.13758461,  0.53276591, -0.2428127 ,\n",
       "       -0.45982436, -0.12990631, -0.05273099])"
      ]
     },
     "execution_count": 81,
     "metadata": {},
     "output_type": "execute_result"
    }
   ],
   "source": [
    "((y_pred-y_test)/y_test.mean())"
   ]
  },
  {
   "cell_type": "markdown",
   "metadata": {},
   "source": [
    "Values lie close to 0 for the above expression.."
   ]
  },
  {
   "cell_type": "code",
   "execution_count": 82,
   "metadata": {},
   "outputs": [
    {
     "name": "stdout",
     "output_type": "stream",
     "text": [
      "0.31303197335024213\n"
     ]
    }
   ],
   "source": [
    "r2 = r2_score(y_test,y_pred)\n",
    "print(r2)"
   ]
  },
  {
   "cell_type": "markdown",
   "metadata": {},
   "source": [
    "### This model has a satisfactory R score. While its performance is comparatively less than that of Random forest regression, this method has an advantage as it provides 'Coefficients of slope' with respect to each variable, as are given by the following lines of code:"
   ]
  },
  {
   "cell_type": "code",
   "execution_count": 84,
   "metadata": {},
   "outputs": [
    {
     "data": {
      "text/plain": [
       "-36206.17461147177"
      ]
     },
     "execution_count": 84,
     "metadata": {},
     "output_type": "execute_result"
    }
   ],
   "source": [
    "model.intercept_"
   ]
  },
  {
   "cell_type": "code",
   "execution_count": 87,
   "metadata": {},
   "outputs": [
    {
     "data": {
      "text/plain": [
       "array([23626.79450254,   319.9129297 ,    37.50341245,   371.19439936])"
      ]
     },
     "execution_count": 87,
     "metadata": {},
     "output_type": "execute_result"
    }
   ],
   "source": [
    "model.coef_"
   ]
  },
  {
   "cell_type": "markdown",
   "metadata": {},
   "source": [
    "### This tells that it varies with unit change of: <br>1) Drive Variable: price increases by 23626.79 units($) <br>2)Battery capacity: price increases by 319 units <br>3)EPA: price increases by 37 units <br>4)time of acceleration from 0-60 kmph: price increases by by 371 units <br>\n",
    "### The last result that the price increases with time of acceleration is a result that we have already seen from the plots in the previous section of Descriptive analysis."
   ]
  },
  {
   "cell_type": "code",
   "execution_count": null,
   "metadata": {},
   "outputs": [],
   "source": []
  },
  {
   "cell_type": "markdown",
   "metadata": {},
   "source": [
    "# Ethics and Privacy"
   ]
  },
  {
   "cell_type": "markdown",
   "metadata": {},
   "source": [
    "   - Data Permission   \n",
    "     \n",
    "   The dataset used were web scraped off of the mentioned website. The site does not explicitly state anywhere that the content could be copied, modified, and redistributed. However, the site must be acknowledged as we linked all of the charts and data we scraped from the website.\n",
    "       \n",
    "       \n",
    "   - Data Discrepancy and biases  \n",
    "     \n",
    "   Since no other data source could be found containing information about the latest E-Vehicle on the market, the mentioned website had to relied on. As this page is more of a blog than an official website, it's data might be biased based on the author's perception and likings (such as it might have more models of his/her favourite manufacturer). Also the values of data in the website is prone to error, either by delliberate or careless means.<br><br>\n",
    "   Also, the number of models available were low, hence this model may not represent the general dependence of price on various factors. Moreover, the number of factors studied were less, while prices should depend on so many other factors such as seating capacity, build, charging time .etc.\n",
    "\n",
    "    \n",
    "         \n",
    "   - Missing data  \n",
    "        \n",
    "   While there were missing data for 'Top-speed' , this doesn't affect the rest of our analysis, as this column was completely skipped. But we could have done better by taking into account this variable too. \n",
    "          \n",
    "       \n",
    "   \n",
    "   - Implications:\n",
    "   \n",
    "   Since the results of our analysis demonstrated that as acceleration time increases, so does the price of the vehicle, this does not mean that we are implying that in order to reduce the vehicle's price, the initial acceleration of the vehicle should be more.  "
   ]
  },
  {
   "cell_type": "markdown",
   "metadata": {},
   "source": [
    "# Conclusion and Discussion"
   ]
  },
  {
   "cell_type": "markdown",
   "metadata": {},
   "source": [
    "\n",
    "The Question of our research is to explore the correlation between electric-vehicle prices and the various features of the automobile. From the dataset at hand, we tried to show that, how prices depend on the four factors : Battery capacity, EPA, initial acceleration rate and type of Drive.<br>\n",
    "  \n",
    "We saw that, using the random forest machine learning algorithm we could, model a relationship between price and the said set of variables with an R score of 0.836.<br>\n",
    "\n",
    "We also showed that, if this system was linearly modelled, the dependence of price on all the said four factors were positive, which while is expected for the variables Battery capacity and EPA, it was counterintuitive that it positively depended on initial acceleration rate (that is the higher the price, the slower is the vehicle to pick up a speed of 60 kmph from 0). <br>\n",
    "\n",
    "\n",
    "However, we need to check if these results would agree on a larger dataset, which however was difficult to obtain from the internet, (while only old or artificial datasets were available on Kaggle).\n",
    "Also this data analysis must be repeated on a dataset with more variables that the E-vehicle prices could depend on.\n",
    "  \n"
   ]
  },
  {
   "cell_type": "code",
   "execution_count": null,
   "metadata": {},
   "outputs": [],
   "source": []
  }
 ],
 "metadata": {
  "kernelspec": {
   "display_name": "Python 3.10.8 64-bit (microsoft store)",
   "language": "python",
   "name": "python3"
  },
  "language_info": {
   "codemirror_mode": {
    "name": "ipython",
    "version": 3
   },
   "file_extension": ".py",
   "mimetype": "text/x-python",
   "name": "python",
   "nbconvert_exporter": "python",
   "pygments_lexer": "ipython3",
   "version": "3.10.8"
  },
  "orig_nbformat": 4,
  "vscode": {
   "interpreter": {
    "hash": "53d63c04b72e1112464e81e0ba4d1547fc9814d925656119997f89af3ec3281f"
   }
  }
 },
 "nbformat": 4,
 "nbformat_minor": 2
}
